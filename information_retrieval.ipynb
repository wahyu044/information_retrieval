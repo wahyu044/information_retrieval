{
  "nbformat": 4,
  "nbformat_minor": 0,
  "metadata": {
    "colab": {
      "name": "PI coba",
      "provenance": []
    },
    "kernelspec": {
      "name": "python3",
      "display_name": "Python 3"
    },
    "language_info": {
      "name": "python"
    }
  },
  "cells": [
    {
      "cell_type": "code",
      "execution_count": null,
      "metadata": {
        "id": "mYHSEZrNb9aQ"
      },
      "outputs": [],
      "source": [
        "#library\n",
        "import pandas as pd"
      ]
    },
    {
      "cell_type": "markdown",
      "source": [
        "# Pre Processing"
      ],
      "metadata": {
        "id": "tEZjqlNykKrF"
      }
    },
    {
      "cell_type": "code",
      "source": [
        "#Training Data\n",
        "data = ['Pemerintah Kota Tarakan memang tidak jadi mengutang untuk menutupi kewajiban yang belum dibayar di tahun anggaran 2015, tetapi dana Sisa Lebih Penggunaan Anggaran (Silpa) yang dua tahun terakhir berhasil menutupi defisit, kini sudah habis',\n",
        "        'Badan Pemeriksa Keuangan (BPK) kaltara memaparkan, dalam dua tahun belakangan Pemkot Tarakan sebenarnya mengalami defisit anggaran.',\n",
        "        'Namun berhasil ditutupi dengan Silpa',\n",
        "        'Menurut data yang dipaparkan Kepala Kantor BPK perwakilan Kalimantan Utara (Kaltara), Ade Iwan Rusmana, pada tahun 2012 Pemkot Tarakan memiliki Rp 859.30 miliar, namun karena defisit tahun 2013 sebesar Rp 323 miliar, sehingga dana silpa tersisa Rp 531.15 miliar.',\n",
        "        'Kemudian berkurang lagi akibat defisit tahun 2014 sebesar Rp 325.89 sehingga silpa di akhir tahun 2014 tersisa Rp 205.27 miliar',\n",
        "        'Angka silpa tersebut yang kemudian dipertanyakan mengapa tidak digunakan.',\n",
        "        'Sekretaris Kota (sekkot) Tarakan dr. Khairul yang juga menjabat ketua tim penyusun anggaran daerah (TPAD) menjelaskan, dana Rp 205.27 miliar telah masuk di struktur anggaran 2015 dan telah habis digunakan.',\n",
        "        'Itukan sudah masuk di tahun anggaran 2015.',\n",
        "        'Sudah kami pakai.',\n",
        "        'Ini setelah kami hitung sampai 31 Desember 2015 pemkot masih memiliki kewajiban yang harus dibayar sebesar Rp 95 miliar.',\n",
        "        'dana sisa defisit habis']\n",
        "label_doc = ['D1', 'D2', 'D3', 'D4', 'D5', 'D6', 'D7', 'D8', 'D9', 'D10', 'Q']"
      ],
      "metadata": {
        "id": "UFPPpodhkNF3"
      },
      "execution_count": null,
      "outputs": []
    },
    {
      "cell_type": "code",
      "source": [
        "training_data = pd.DataFrame(data, label_doc, columns=['Kalimat'])\n",
        "training_data"
      ],
      "metadata": {
        "colab": {
          "base_uri": "https://localhost:8080/",
          "height": 394
        },
        "id": "HlAnK7cblTBZ",
        "outputId": "75e44c08-ac11-43a9-99c5-2e708daf7545"
      },
      "execution_count": null,
      "outputs": [
        {
          "output_type": "execute_result",
          "data": {
            "text/plain": [
              "                                               Kalimat\n",
              "D1   Pemerintah Kota Tarakan memang tidak jadi meng...\n",
              "D2   Badan Pemeriksa Keuangan (BPK) kaltara memapar...\n",
              "D3                Namun berhasil ditutupi dengan Silpa\n",
              "D4   Menurut data yang dipaparkan Kepala Kantor BPK...\n",
              "D5   Kemudian berkurang lagi akibat defisit tahun 2...\n",
              "D6   Angka silpa tersebut yang kemudian dipertanyak...\n",
              "D7   Sekretaris Kota (sekkot) Tarakan dr. Khairul y...\n",
              "D8          Itukan sudah masuk di tahun anggaran 2015.\n",
              "D9                                   Sudah kami pakai.\n",
              "D10  Ini setelah kami hitung sampai 31 Desember 201...\n",
              "Q                              dana sisa defisit habis"
            ],
            "text/html": [
              "\n",
              "  <div id=\"df-6644865b-36ea-47be-8da3-c081ea132ce2\">\n",
              "    <div class=\"colab-df-container\">\n",
              "      <div>\n",
              "<style scoped>\n",
              "    .dataframe tbody tr th:only-of-type {\n",
              "        vertical-align: middle;\n",
              "    }\n",
              "\n",
              "    .dataframe tbody tr th {\n",
              "        vertical-align: top;\n",
              "    }\n",
              "\n",
              "    .dataframe thead th {\n",
              "        text-align: right;\n",
              "    }\n",
              "</style>\n",
              "<table border=\"1\" class=\"dataframe\">\n",
              "  <thead>\n",
              "    <tr style=\"text-align: right;\">\n",
              "      <th></th>\n",
              "      <th>Kalimat</th>\n",
              "    </tr>\n",
              "  </thead>\n",
              "  <tbody>\n",
              "    <tr>\n",
              "      <th>D1</th>\n",
              "      <td>Pemerintah Kota Tarakan memang tidak jadi meng...</td>\n",
              "    </tr>\n",
              "    <tr>\n",
              "      <th>D2</th>\n",
              "      <td>Badan Pemeriksa Keuangan (BPK) kaltara memapar...</td>\n",
              "    </tr>\n",
              "    <tr>\n",
              "      <th>D3</th>\n",
              "      <td>Namun berhasil ditutupi dengan Silpa</td>\n",
              "    </tr>\n",
              "    <tr>\n",
              "      <th>D4</th>\n",
              "      <td>Menurut data yang dipaparkan Kepala Kantor BPK...</td>\n",
              "    </tr>\n",
              "    <tr>\n",
              "      <th>D5</th>\n",
              "      <td>Kemudian berkurang lagi akibat defisit tahun 2...</td>\n",
              "    </tr>\n",
              "    <tr>\n",
              "      <th>D6</th>\n",
              "      <td>Angka silpa tersebut yang kemudian dipertanyak...</td>\n",
              "    </tr>\n",
              "    <tr>\n",
              "      <th>D7</th>\n",
              "      <td>Sekretaris Kota (sekkot) Tarakan dr. Khairul y...</td>\n",
              "    </tr>\n",
              "    <tr>\n",
              "      <th>D8</th>\n",
              "      <td>Itukan sudah masuk di tahun anggaran 2015.</td>\n",
              "    </tr>\n",
              "    <tr>\n",
              "      <th>D9</th>\n",
              "      <td>Sudah kami pakai.</td>\n",
              "    </tr>\n",
              "    <tr>\n",
              "      <th>D10</th>\n",
              "      <td>Ini setelah kami hitung sampai 31 Desember 201...</td>\n",
              "    </tr>\n",
              "    <tr>\n",
              "      <th>Q</th>\n",
              "      <td>dana sisa defisit habis</td>\n",
              "    </tr>\n",
              "  </tbody>\n",
              "</table>\n",
              "</div>\n",
              "      <button class=\"colab-df-convert\" onclick=\"convertToInteractive('df-6644865b-36ea-47be-8da3-c081ea132ce2')\"\n",
              "              title=\"Convert this dataframe to an interactive table.\"\n",
              "              style=\"display:none;\">\n",
              "        \n",
              "  <svg xmlns=\"http://www.w3.org/2000/svg\" height=\"24px\"viewBox=\"0 0 24 24\"\n",
              "       width=\"24px\">\n",
              "    <path d=\"M0 0h24v24H0V0z\" fill=\"none\"/>\n",
              "    <path d=\"M18.56 5.44l.94 2.06.94-2.06 2.06-.94-2.06-.94-.94-2.06-.94 2.06-2.06.94zm-11 1L8.5 8.5l.94-2.06 2.06-.94-2.06-.94L8.5 2.5l-.94 2.06-2.06.94zm10 10l.94 2.06.94-2.06 2.06-.94-2.06-.94-.94-2.06-.94 2.06-2.06.94z\"/><path d=\"M17.41 7.96l-1.37-1.37c-.4-.4-.92-.59-1.43-.59-.52 0-1.04.2-1.43.59L10.3 9.45l-7.72 7.72c-.78.78-.78 2.05 0 2.83L4 21.41c.39.39.9.59 1.41.59.51 0 1.02-.2 1.41-.59l7.78-7.78 2.81-2.81c.8-.78.8-2.07 0-2.86zM5.41 20L4 18.59l7.72-7.72 1.47 1.35L5.41 20z\"/>\n",
              "  </svg>\n",
              "      </button>\n",
              "      \n",
              "  <style>\n",
              "    .colab-df-container {\n",
              "      display:flex;\n",
              "      flex-wrap:wrap;\n",
              "      gap: 12px;\n",
              "    }\n",
              "\n",
              "    .colab-df-convert {\n",
              "      background-color: #E8F0FE;\n",
              "      border: none;\n",
              "      border-radius: 50%;\n",
              "      cursor: pointer;\n",
              "      display: none;\n",
              "      fill: #1967D2;\n",
              "      height: 32px;\n",
              "      padding: 0 0 0 0;\n",
              "      width: 32px;\n",
              "    }\n",
              "\n",
              "    .colab-df-convert:hover {\n",
              "      background-color: #E2EBFA;\n",
              "      box-shadow: 0px 1px 2px rgba(60, 64, 67, 0.3), 0px 1px 3px 1px rgba(60, 64, 67, 0.15);\n",
              "      fill: #174EA6;\n",
              "    }\n",
              "\n",
              "    [theme=dark] .colab-df-convert {\n",
              "      background-color: #3B4455;\n",
              "      fill: #D2E3FC;\n",
              "    }\n",
              "\n",
              "    [theme=dark] .colab-df-convert:hover {\n",
              "      background-color: #434B5C;\n",
              "      box-shadow: 0px 1px 3px 1px rgba(0, 0, 0, 0.15);\n",
              "      filter: drop-shadow(0px 1px 2px rgba(0, 0, 0, 0.3));\n",
              "      fill: #FFFFFF;\n",
              "    }\n",
              "  </style>\n",
              "\n",
              "      <script>\n",
              "        const buttonEl =\n",
              "          document.querySelector('#df-6644865b-36ea-47be-8da3-c081ea132ce2 button.colab-df-convert');\n",
              "        buttonEl.style.display =\n",
              "          google.colab.kernel.accessAllowed ? 'block' : 'none';\n",
              "\n",
              "        async function convertToInteractive(key) {\n",
              "          const element = document.querySelector('#df-6644865b-36ea-47be-8da3-c081ea132ce2');\n",
              "          const dataTable =\n",
              "            await google.colab.kernel.invokeFunction('convertToInteractive',\n",
              "                                                     [key], {});\n",
              "          if (!dataTable) return;\n",
              "\n",
              "          const docLinkHtml = 'Like what you see? Visit the ' +\n",
              "            '<a target=\"_blank\" href=https://colab.research.google.com/notebooks/data_table.ipynb>data table notebook</a>'\n",
              "            + ' to learn more about interactive tables.';\n",
              "          element.innerHTML = '';\n",
              "          dataTable['output_type'] = 'display_data';\n",
              "          await google.colab.output.renderOutput(dataTable, element);\n",
              "          const docLink = document.createElement('div');\n",
              "          docLink.innerHTML = docLinkHtml;\n",
              "          element.appendChild(docLink);\n",
              "        }\n",
              "      </script>\n",
              "    </div>\n",
              "  </div>\n",
              "  "
            ]
          },
          "metadata": {},
          "execution_count": 57
        }
      ]
    },
    {
      "cell_type": "code",
      "source": [
        "#Remove punctuation\n",
        "from string import punctuation\n",
        "\n",
        "def remove_punc (text) :\n",
        "  for i in text :\n",
        "    if i in punctuation :\n",
        "      text = text.replace(i, \" \")\n",
        "  return text\n",
        "\n",
        "training_data['Kalimat'] = training_data['Kalimat'].apply(lambda x : remove_punc(x))\n",
        "\n",
        "training_data"
      ],
      "metadata": {
        "colab": {
          "base_uri": "https://localhost:8080/",
          "height": 394
        },
        "id": "b5LabKmfmhoF",
        "outputId": "fd5bae9d-2a93-4e7c-e87c-b24466cd82b6"
      },
      "execution_count": null,
      "outputs": [
        {
          "output_type": "execute_result",
          "data": {
            "text/plain": [
              "                                               Kalimat\n",
              "D1   Pemerintah Kota Tarakan memang tidak jadi meng...\n",
              "D2   Badan Pemeriksa Keuangan  BPK  kaltara memapar...\n",
              "D3                Namun berhasil ditutupi dengan Silpa\n",
              "D4   Menurut data yang dipaparkan Kepala Kantor BPK...\n",
              "D5   Kemudian berkurang lagi akibat defisit tahun 2...\n",
              "D6   Angka silpa tersebut yang kemudian dipertanyak...\n",
              "D7   Sekretaris Kota  sekkot  Tarakan dr  Khairul y...\n",
              "D8          Itukan sudah masuk di tahun anggaran 2015 \n",
              "D9                                   Sudah kami pakai \n",
              "D10  Ini setelah kami hitung sampai 31 Desember 201...\n",
              "Q                              dana sisa defisit habis"
            ],
            "text/html": [
              "\n",
              "  <div id=\"df-4792171f-c210-496b-8647-6e0093865478\">\n",
              "    <div class=\"colab-df-container\">\n",
              "      <div>\n",
              "<style scoped>\n",
              "    .dataframe tbody tr th:only-of-type {\n",
              "        vertical-align: middle;\n",
              "    }\n",
              "\n",
              "    .dataframe tbody tr th {\n",
              "        vertical-align: top;\n",
              "    }\n",
              "\n",
              "    .dataframe thead th {\n",
              "        text-align: right;\n",
              "    }\n",
              "</style>\n",
              "<table border=\"1\" class=\"dataframe\">\n",
              "  <thead>\n",
              "    <tr style=\"text-align: right;\">\n",
              "      <th></th>\n",
              "      <th>Kalimat</th>\n",
              "    </tr>\n",
              "  </thead>\n",
              "  <tbody>\n",
              "    <tr>\n",
              "      <th>D1</th>\n",
              "      <td>Pemerintah Kota Tarakan memang tidak jadi meng...</td>\n",
              "    </tr>\n",
              "    <tr>\n",
              "      <th>D2</th>\n",
              "      <td>Badan Pemeriksa Keuangan  BPK  kaltara memapar...</td>\n",
              "    </tr>\n",
              "    <tr>\n",
              "      <th>D3</th>\n",
              "      <td>Namun berhasil ditutupi dengan Silpa</td>\n",
              "    </tr>\n",
              "    <tr>\n",
              "      <th>D4</th>\n",
              "      <td>Menurut data yang dipaparkan Kepala Kantor BPK...</td>\n",
              "    </tr>\n",
              "    <tr>\n",
              "      <th>D5</th>\n",
              "      <td>Kemudian berkurang lagi akibat defisit tahun 2...</td>\n",
              "    </tr>\n",
              "    <tr>\n",
              "      <th>D6</th>\n",
              "      <td>Angka silpa tersebut yang kemudian dipertanyak...</td>\n",
              "    </tr>\n",
              "    <tr>\n",
              "      <th>D7</th>\n",
              "      <td>Sekretaris Kota  sekkot  Tarakan dr  Khairul y...</td>\n",
              "    </tr>\n",
              "    <tr>\n",
              "      <th>D8</th>\n",
              "      <td>Itukan sudah masuk di tahun anggaran 2015</td>\n",
              "    </tr>\n",
              "    <tr>\n",
              "      <th>D9</th>\n",
              "      <td>Sudah kami pakai</td>\n",
              "    </tr>\n",
              "    <tr>\n",
              "      <th>D10</th>\n",
              "      <td>Ini setelah kami hitung sampai 31 Desember 201...</td>\n",
              "    </tr>\n",
              "    <tr>\n",
              "      <th>Q</th>\n",
              "      <td>dana sisa defisit habis</td>\n",
              "    </tr>\n",
              "  </tbody>\n",
              "</table>\n",
              "</div>\n",
              "      <button class=\"colab-df-convert\" onclick=\"convertToInteractive('df-4792171f-c210-496b-8647-6e0093865478')\"\n",
              "              title=\"Convert this dataframe to an interactive table.\"\n",
              "              style=\"display:none;\">\n",
              "        \n",
              "  <svg xmlns=\"http://www.w3.org/2000/svg\" height=\"24px\"viewBox=\"0 0 24 24\"\n",
              "       width=\"24px\">\n",
              "    <path d=\"M0 0h24v24H0V0z\" fill=\"none\"/>\n",
              "    <path d=\"M18.56 5.44l.94 2.06.94-2.06 2.06-.94-2.06-.94-.94-2.06-.94 2.06-2.06.94zm-11 1L8.5 8.5l.94-2.06 2.06-.94-2.06-.94L8.5 2.5l-.94 2.06-2.06.94zm10 10l.94 2.06.94-2.06 2.06-.94-2.06-.94-.94-2.06-.94 2.06-2.06.94z\"/><path d=\"M17.41 7.96l-1.37-1.37c-.4-.4-.92-.59-1.43-.59-.52 0-1.04.2-1.43.59L10.3 9.45l-7.72 7.72c-.78.78-.78 2.05 0 2.83L4 21.41c.39.39.9.59 1.41.59.51 0 1.02-.2 1.41-.59l7.78-7.78 2.81-2.81c.8-.78.8-2.07 0-2.86zM5.41 20L4 18.59l7.72-7.72 1.47 1.35L5.41 20z\"/>\n",
              "  </svg>\n",
              "      </button>\n",
              "      \n",
              "  <style>\n",
              "    .colab-df-container {\n",
              "      display:flex;\n",
              "      flex-wrap:wrap;\n",
              "      gap: 12px;\n",
              "    }\n",
              "\n",
              "    .colab-df-convert {\n",
              "      background-color: #E8F0FE;\n",
              "      border: none;\n",
              "      border-radius: 50%;\n",
              "      cursor: pointer;\n",
              "      display: none;\n",
              "      fill: #1967D2;\n",
              "      height: 32px;\n",
              "      padding: 0 0 0 0;\n",
              "      width: 32px;\n",
              "    }\n",
              "\n",
              "    .colab-df-convert:hover {\n",
              "      background-color: #E2EBFA;\n",
              "      box-shadow: 0px 1px 2px rgba(60, 64, 67, 0.3), 0px 1px 3px 1px rgba(60, 64, 67, 0.15);\n",
              "      fill: #174EA6;\n",
              "    }\n",
              "\n",
              "    [theme=dark] .colab-df-convert {\n",
              "      background-color: #3B4455;\n",
              "      fill: #D2E3FC;\n",
              "    }\n",
              "\n",
              "    [theme=dark] .colab-df-convert:hover {\n",
              "      background-color: #434B5C;\n",
              "      box-shadow: 0px 1px 3px 1px rgba(0, 0, 0, 0.15);\n",
              "      filter: drop-shadow(0px 1px 2px rgba(0, 0, 0, 0.3));\n",
              "      fill: #FFFFFF;\n",
              "    }\n",
              "  </style>\n",
              "\n",
              "      <script>\n",
              "        const buttonEl =\n",
              "          document.querySelector('#df-4792171f-c210-496b-8647-6e0093865478 button.colab-df-convert');\n",
              "        buttonEl.style.display =\n",
              "          google.colab.kernel.accessAllowed ? 'block' : 'none';\n",
              "\n",
              "        async function convertToInteractive(key) {\n",
              "          const element = document.querySelector('#df-4792171f-c210-496b-8647-6e0093865478');\n",
              "          const dataTable =\n",
              "            await google.colab.kernel.invokeFunction('convertToInteractive',\n",
              "                                                     [key], {});\n",
              "          if (!dataTable) return;\n",
              "\n",
              "          const docLinkHtml = 'Like what you see? Visit the ' +\n",
              "            '<a target=\"_blank\" href=https://colab.research.google.com/notebooks/data_table.ipynb>data table notebook</a>'\n",
              "            + ' to learn more about interactive tables.';\n",
              "          element.innerHTML = '';\n",
              "          dataTable['output_type'] = 'display_data';\n",
              "          await google.colab.output.renderOutput(dataTable, element);\n",
              "          const docLink = document.createElement('div');\n",
              "          docLink.innerHTML = docLinkHtml;\n",
              "          element.appendChild(docLink);\n",
              "        }\n",
              "      </script>\n",
              "    </div>\n",
              "  </div>\n",
              "  "
            ]
          },
          "metadata": {},
          "execution_count": 58
        }
      ]
    },
    {
      "cell_type": "code",
      "source": [
        "#Case folding\n",
        "def case_fold (text) :\n",
        "  for i in text :\n",
        "    text = text.replace(i, i.lower())\n",
        "  return text\n",
        "\n",
        "training_data['Kalimat'] = training_data['Kalimat'].apply(lambda x : case_fold(x))\n",
        "\n",
        "training_data"
      ],
      "metadata": {
        "colab": {
          "base_uri": "https://localhost:8080/",
          "height": 394
        },
        "id": "EW0TMphq8yXh",
        "outputId": "cea0207b-19b2-4f94-acc0-6504cb1efec0"
      },
      "execution_count": null,
      "outputs": [
        {
          "output_type": "execute_result",
          "data": {
            "text/plain": [
              "                                               Kalimat\n",
              "D1   pemerintah kota tarakan memang tidak jadi meng...\n",
              "D2   badan pemeriksa keuangan  bpk  kaltara memapar...\n",
              "D3                namun berhasil ditutupi dengan silpa\n",
              "D4   menurut data yang dipaparkan kepala kantor bpk...\n",
              "D5   kemudian berkurang lagi akibat defisit tahun 2...\n",
              "D6   angka silpa tersebut yang kemudian dipertanyak...\n",
              "D7   sekretaris kota  sekkot  tarakan dr  khairul y...\n",
              "D8          itukan sudah masuk di tahun anggaran 2015 \n",
              "D9                                   sudah kami pakai \n",
              "D10  ini setelah kami hitung sampai 31 desember 201...\n",
              "Q                              dana sisa defisit habis"
            ],
            "text/html": [
              "\n",
              "  <div id=\"df-9c288755-2c79-445c-a987-c83582c2130d\">\n",
              "    <div class=\"colab-df-container\">\n",
              "      <div>\n",
              "<style scoped>\n",
              "    .dataframe tbody tr th:only-of-type {\n",
              "        vertical-align: middle;\n",
              "    }\n",
              "\n",
              "    .dataframe tbody tr th {\n",
              "        vertical-align: top;\n",
              "    }\n",
              "\n",
              "    .dataframe thead th {\n",
              "        text-align: right;\n",
              "    }\n",
              "</style>\n",
              "<table border=\"1\" class=\"dataframe\">\n",
              "  <thead>\n",
              "    <tr style=\"text-align: right;\">\n",
              "      <th></th>\n",
              "      <th>Kalimat</th>\n",
              "    </tr>\n",
              "  </thead>\n",
              "  <tbody>\n",
              "    <tr>\n",
              "      <th>D1</th>\n",
              "      <td>pemerintah kota tarakan memang tidak jadi meng...</td>\n",
              "    </tr>\n",
              "    <tr>\n",
              "      <th>D2</th>\n",
              "      <td>badan pemeriksa keuangan  bpk  kaltara memapar...</td>\n",
              "    </tr>\n",
              "    <tr>\n",
              "      <th>D3</th>\n",
              "      <td>namun berhasil ditutupi dengan silpa</td>\n",
              "    </tr>\n",
              "    <tr>\n",
              "      <th>D4</th>\n",
              "      <td>menurut data yang dipaparkan kepala kantor bpk...</td>\n",
              "    </tr>\n",
              "    <tr>\n",
              "      <th>D5</th>\n",
              "      <td>kemudian berkurang lagi akibat defisit tahun 2...</td>\n",
              "    </tr>\n",
              "    <tr>\n",
              "      <th>D6</th>\n",
              "      <td>angka silpa tersebut yang kemudian dipertanyak...</td>\n",
              "    </tr>\n",
              "    <tr>\n",
              "      <th>D7</th>\n",
              "      <td>sekretaris kota  sekkot  tarakan dr  khairul y...</td>\n",
              "    </tr>\n",
              "    <tr>\n",
              "      <th>D8</th>\n",
              "      <td>itukan sudah masuk di tahun anggaran 2015</td>\n",
              "    </tr>\n",
              "    <tr>\n",
              "      <th>D9</th>\n",
              "      <td>sudah kami pakai</td>\n",
              "    </tr>\n",
              "    <tr>\n",
              "      <th>D10</th>\n",
              "      <td>ini setelah kami hitung sampai 31 desember 201...</td>\n",
              "    </tr>\n",
              "    <tr>\n",
              "      <th>Q</th>\n",
              "      <td>dana sisa defisit habis</td>\n",
              "    </tr>\n",
              "  </tbody>\n",
              "</table>\n",
              "</div>\n",
              "      <button class=\"colab-df-convert\" onclick=\"convertToInteractive('df-9c288755-2c79-445c-a987-c83582c2130d')\"\n",
              "              title=\"Convert this dataframe to an interactive table.\"\n",
              "              style=\"display:none;\">\n",
              "        \n",
              "  <svg xmlns=\"http://www.w3.org/2000/svg\" height=\"24px\"viewBox=\"0 0 24 24\"\n",
              "       width=\"24px\">\n",
              "    <path d=\"M0 0h24v24H0V0z\" fill=\"none\"/>\n",
              "    <path d=\"M18.56 5.44l.94 2.06.94-2.06 2.06-.94-2.06-.94-.94-2.06-.94 2.06-2.06.94zm-11 1L8.5 8.5l.94-2.06 2.06-.94-2.06-.94L8.5 2.5l-.94 2.06-2.06.94zm10 10l.94 2.06.94-2.06 2.06-.94-2.06-.94-.94-2.06-.94 2.06-2.06.94z\"/><path d=\"M17.41 7.96l-1.37-1.37c-.4-.4-.92-.59-1.43-.59-.52 0-1.04.2-1.43.59L10.3 9.45l-7.72 7.72c-.78.78-.78 2.05 0 2.83L4 21.41c.39.39.9.59 1.41.59.51 0 1.02-.2 1.41-.59l7.78-7.78 2.81-2.81c.8-.78.8-2.07 0-2.86zM5.41 20L4 18.59l7.72-7.72 1.47 1.35L5.41 20z\"/>\n",
              "  </svg>\n",
              "      </button>\n",
              "      \n",
              "  <style>\n",
              "    .colab-df-container {\n",
              "      display:flex;\n",
              "      flex-wrap:wrap;\n",
              "      gap: 12px;\n",
              "    }\n",
              "\n",
              "    .colab-df-convert {\n",
              "      background-color: #E8F0FE;\n",
              "      border: none;\n",
              "      border-radius: 50%;\n",
              "      cursor: pointer;\n",
              "      display: none;\n",
              "      fill: #1967D2;\n",
              "      height: 32px;\n",
              "      padding: 0 0 0 0;\n",
              "      width: 32px;\n",
              "    }\n",
              "\n",
              "    .colab-df-convert:hover {\n",
              "      background-color: #E2EBFA;\n",
              "      box-shadow: 0px 1px 2px rgba(60, 64, 67, 0.3), 0px 1px 3px 1px rgba(60, 64, 67, 0.15);\n",
              "      fill: #174EA6;\n",
              "    }\n",
              "\n",
              "    [theme=dark] .colab-df-convert {\n",
              "      background-color: #3B4455;\n",
              "      fill: #D2E3FC;\n",
              "    }\n",
              "\n",
              "    [theme=dark] .colab-df-convert:hover {\n",
              "      background-color: #434B5C;\n",
              "      box-shadow: 0px 1px 3px 1px rgba(0, 0, 0, 0.15);\n",
              "      filter: drop-shadow(0px 1px 2px rgba(0, 0, 0, 0.3));\n",
              "      fill: #FFFFFF;\n",
              "    }\n",
              "  </style>\n",
              "\n",
              "      <script>\n",
              "        const buttonEl =\n",
              "          document.querySelector('#df-9c288755-2c79-445c-a987-c83582c2130d button.colab-df-convert');\n",
              "        buttonEl.style.display =\n",
              "          google.colab.kernel.accessAllowed ? 'block' : 'none';\n",
              "\n",
              "        async function convertToInteractive(key) {\n",
              "          const element = document.querySelector('#df-9c288755-2c79-445c-a987-c83582c2130d');\n",
              "          const dataTable =\n",
              "            await google.colab.kernel.invokeFunction('convertToInteractive',\n",
              "                                                     [key], {});\n",
              "          if (!dataTable) return;\n",
              "\n",
              "          const docLinkHtml = 'Like what you see? Visit the ' +\n",
              "            '<a target=\"_blank\" href=https://colab.research.google.com/notebooks/data_table.ipynb>data table notebook</a>'\n",
              "            + ' to learn more about interactive tables.';\n",
              "          element.innerHTML = '';\n",
              "          dataTable['output_type'] = 'display_data';\n",
              "          await google.colab.output.renderOutput(dataTable, element);\n",
              "          const docLink = document.createElement('div');\n",
              "          docLink.innerHTML = docLinkHtml;\n",
              "          element.appendChild(docLink);\n",
              "        }\n",
              "      </script>\n",
              "    </div>\n",
              "  </div>\n",
              "  "
            ]
          },
          "metadata": {},
          "execution_count": 59
        }
      ]
    },
    {
      "cell_type": "code",
      "source": [
        "import nltk\n",
        "nltk.download('popular')"
      ],
      "metadata": {
        "colab": {
          "base_uri": "https://localhost:8080/"
        },
        "id": "PUciuDXL8yQf",
        "outputId": "04419483-028a-4f05-9127-1d9de18f7453"
      },
      "execution_count": null,
      "outputs": [
        {
          "output_type": "stream",
          "name": "stdout",
          "text": [
            "[nltk_data] Downloading collection 'popular'\n",
            "[nltk_data]    | \n",
            "[nltk_data]    | Downloading package cmudict to /root/nltk_data...\n",
            "[nltk_data]    |   Package cmudict is already up-to-date!\n",
            "[nltk_data]    | Downloading package gazetteers to /root/nltk_data...\n",
            "[nltk_data]    |   Package gazetteers is already up-to-date!\n",
            "[nltk_data]    | Downloading package genesis to /root/nltk_data...\n",
            "[nltk_data]    |   Package genesis is already up-to-date!\n",
            "[nltk_data]    | Downloading package gutenberg to /root/nltk_data...\n",
            "[nltk_data]    |   Package gutenberg is already up-to-date!\n",
            "[nltk_data]    | Downloading package inaugural to /root/nltk_data...\n",
            "[nltk_data]    |   Package inaugural is already up-to-date!\n",
            "[nltk_data]    | Downloading package movie_reviews to\n",
            "[nltk_data]    |     /root/nltk_data...\n",
            "[nltk_data]    |   Package movie_reviews is already up-to-date!\n",
            "[nltk_data]    | Downloading package names to /root/nltk_data...\n",
            "[nltk_data]    |   Package names is already up-to-date!\n",
            "[nltk_data]    | Downloading package shakespeare to /root/nltk_data...\n",
            "[nltk_data]    |   Package shakespeare is already up-to-date!\n",
            "[nltk_data]    | Downloading package stopwords to /root/nltk_data...\n",
            "[nltk_data]    |   Package stopwords is already up-to-date!\n",
            "[nltk_data]    | Downloading package treebank to /root/nltk_data...\n",
            "[nltk_data]    |   Package treebank is already up-to-date!\n",
            "[nltk_data]    | Downloading package twitter_samples to\n",
            "[nltk_data]    |     /root/nltk_data...\n",
            "[nltk_data]    |   Package twitter_samples is already up-to-date!\n",
            "[nltk_data]    | Downloading package omw to /root/nltk_data...\n",
            "[nltk_data]    |   Package omw is already up-to-date!\n",
            "[nltk_data]    | Downloading package omw-1.4 to /root/nltk_data...\n",
            "[nltk_data]    |   Package omw-1.4 is already up-to-date!\n",
            "[nltk_data]    | Downloading package wordnet to /root/nltk_data...\n",
            "[nltk_data]    |   Package wordnet is already up-to-date!\n",
            "[nltk_data]    | Downloading package wordnet2021 to /root/nltk_data...\n",
            "[nltk_data]    |   Package wordnet2021 is already up-to-date!\n",
            "[nltk_data]    | Downloading package wordnet31 to /root/nltk_data...\n",
            "[nltk_data]    |   Package wordnet31 is already up-to-date!\n",
            "[nltk_data]    | Downloading package wordnet_ic to /root/nltk_data...\n",
            "[nltk_data]    |   Package wordnet_ic is already up-to-date!\n",
            "[nltk_data]    | Downloading package words to /root/nltk_data...\n",
            "[nltk_data]    |   Package words is already up-to-date!\n",
            "[nltk_data]    | Downloading package maxent_ne_chunker to\n",
            "[nltk_data]    |     /root/nltk_data...\n",
            "[nltk_data]    |   Package maxent_ne_chunker is already up-to-date!\n",
            "[nltk_data]    | Downloading package punkt to /root/nltk_data...\n",
            "[nltk_data]    |   Package punkt is already up-to-date!\n",
            "[nltk_data]    | Downloading package snowball_data to\n",
            "[nltk_data]    |     /root/nltk_data...\n",
            "[nltk_data]    |   Package snowball_data is already up-to-date!\n",
            "[nltk_data]    | Downloading package averaged_perceptron_tagger to\n",
            "[nltk_data]    |     /root/nltk_data...\n",
            "[nltk_data]    |   Package averaged_perceptron_tagger is already up-\n",
            "[nltk_data]    |       to-date!\n",
            "[nltk_data]    | \n",
            "[nltk_data]  Done downloading collection popular\n"
          ]
        },
        {
          "output_type": "execute_result",
          "data": {
            "text/plain": [
              "True"
            ]
          },
          "metadata": {},
          "execution_count": 60
        }
      ]
    },
    {
      "cell_type": "code",
      "source": [
        "from nltk.tokenize import word_tokenize"
      ],
      "metadata": {
        "id": "13GLp2va8yEb"
      },
      "execution_count": null,
      "outputs": []
    },
    {
      "cell_type": "code",
      "source": [
        "#Tokenizing\n",
        "def token (text) :\n",
        "  return nltk.word_tokenize(text)\n",
        "\n",
        "training_data['Kalimat'] = training_data['Kalimat'].apply(lambda x : token(x))\n",
        "\n",
        "training_data"
      ],
      "metadata": {
        "colab": {
          "base_uri": "https://localhost:8080/",
          "height": 394
        },
        "id": "B0hh6_Ol8x2l",
        "outputId": "b2da278c-d2f2-41d7-f5be-0873e4c89e2e"
      },
      "execution_count": null,
      "outputs": [
        {
          "output_type": "execute_result",
          "data": {
            "text/plain": [
              "                                               Kalimat\n",
              "D1   [pemerintah, kota, tarakan, memang, tidak, jad...\n",
              "D2   [badan, pemeriksa, keuangan, bpk, kaltara, mem...\n",
              "D3          [namun, berhasil, ditutupi, dengan, silpa]\n",
              "D4   [menurut, data, yang, dipaparkan, kepala, kant...\n",
              "D5   [kemudian, berkurang, lagi, akibat, defisit, t...\n",
              "D6   [angka, silpa, tersebut, yang, kemudian, diper...\n",
              "D7   [sekretaris, kota, sekkot, tarakan, dr, khairu...\n",
              "D8   [itukan, sudah, masuk, di, tahun, anggaran, 2015]\n",
              "D9                                [sudah, kami, pakai]\n",
              "D10  [ini, setelah, kami, hitung, sampai, 31, desem...\n",
              "Q                         [dana, sisa, defisit, habis]"
            ],
            "text/html": [
              "\n",
              "  <div id=\"df-49cdb3e4-fd94-4c1a-884d-10b07ab86d52\">\n",
              "    <div class=\"colab-df-container\">\n",
              "      <div>\n",
              "<style scoped>\n",
              "    .dataframe tbody tr th:only-of-type {\n",
              "        vertical-align: middle;\n",
              "    }\n",
              "\n",
              "    .dataframe tbody tr th {\n",
              "        vertical-align: top;\n",
              "    }\n",
              "\n",
              "    .dataframe thead th {\n",
              "        text-align: right;\n",
              "    }\n",
              "</style>\n",
              "<table border=\"1\" class=\"dataframe\">\n",
              "  <thead>\n",
              "    <tr style=\"text-align: right;\">\n",
              "      <th></th>\n",
              "      <th>Kalimat</th>\n",
              "    </tr>\n",
              "  </thead>\n",
              "  <tbody>\n",
              "    <tr>\n",
              "      <th>D1</th>\n",
              "      <td>[pemerintah, kota, tarakan, memang, tidak, jad...</td>\n",
              "    </tr>\n",
              "    <tr>\n",
              "      <th>D2</th>\n",
              "      <td>[badan, pemeriksa, keuangan, bpk, kaltara, mem...</td>\n",
              "    </tr>\n",
              "    <tr>\n",
              "      <th>D3</th>\n",
              "      <td>[namun, berhasil, ditutupi, dengan, silpa]</td>\n",
              "    </tr>\n",
              "    <tr>\n",
              "      <th>D4</th>\n",
              "      <td>[menurut, data, yang, dipaparkan, kepala, kant...</td>\n",
              "    </tr>\n",
              "    <tr>\n",
              "      <th>D5</th>\n",
              "      <td>[kemudian, berkurang, lagi, akibat, defisit, t...</td>\n",
              "    </tr>\n",
              "    <tr>\n",
              "      <th>D6</th>\n",
              "      <td>[angka, silpa, tersebut, yang, kemudian, diper...</td>\n",
              "    </tr>\n",
              "    <tr>\n",
              "      <th>D7</th>\n",
              "      <td>[sekretaris, kota, sekkot, tarakan, dr, khairu...</td>\n",
              "    </tr>\n",
              "    <tr>\n",
              "      <th>D8</th>\n",
              "      <td>[itukan, sudah, masuk, di, tahun, anggaran, 2015]</td>\n",
              "    </tr>\n",
              "    <tr>\n",
              "      <th>D9</th>\n",
              "      <td>[sudah, kami, pakai]</td>\n",
              "    </tr>\n",
              "    <tr>\n",
              "      <th>D10</th>\n",
              "      <td>[ini, setelah, kami, hitung, sampai, 31, desem...</td>\n",
              "    </tr>\n",
              "    <tr>\n",
              "      <th>Q</th>\n",
              "      <td>[dana, sisa, defisit, habis]</td>\n",
              "    </tr>\n",
              "  </tbody>\n",
              "</table>\n",
              "</div>\n",
              "      <button class=\"colab-df-convert\" onclick=\"convertToInteractive('df-49cdb3e4-fd94-4c1a-884d-10b07ab86d52')\"\n",
              "              title=\"Convert this dataframe to an interactive table.\"\n",
              "              style=\"display:none;\">\n",
              "        \n",
              "  <svg xmlns=\"http://www.w3.org/2000/svg\" height=\"24px\"viewBox=\"0 0 24 24\"\n",
              "       width=\"24px\">\n",
              "    <path d=\"M0 0h24v24H0V0z\" fill=\"none\"/>\n",
              "    <path d=\"M18.56 5.44l.94 2.06.94-2.06 2.06-.94-2.06-.94-.94-2.06-.94 2.06-2.06.94zm-11 1L8.5 8.5l.94-2.06 2.06-.94-2.06-.94L8.5 2.5l-.94 2.06-2.06.94zm10 10l.94 2.06.94-2.06 2.06-.94-2.06-.94-.94-2.06-.94 2.06-2.06.94z\"/><path d=\"M17.41 7.96l-1.37-1.37c-.4-.4-.92-.59-1.43-.59-.52 0-1.04.2-1.43.59L10.3 9.45l-7.72 7.72c-.78.78-.78 2.05 0 2.83L4 21.41c.39.39.9.59 1.41.59.51 0 1.02-.2 1.41-.59l7.78-7.78 2.81-2.81c.8-.78.8-2.07 0-2.86zM5.41 20L4 18.59l7.72-7.72 1.47 1.35L5.41 20z\"/>\n",
              "  </svg>\n",
              "      </button>\n",
              "      \n",
              "  <style>\n",
              "    .colab-df-container {\n",
              "      display:flex;\n",
              "      flex-wrap:wrap;\n",
              "      gap: 12px;\n",
              "    }\n",
              "\n",
              "    .colab-df-convert {\n",
              "      background-color: #E8F0FE;\n",
              "      border: none;\n",
              "      border-radius: 50%;\n",
              "      cursor: pointer;\n",
              "      display: none;\n",
              "      fill: #1967D2;\n",
              "      height: 32px;\n",
              "      padding: 0 0 0 0;\n",
              "      width: 32px;\n",
              "    }\n",
              "\n",
              "    .colab-df-convert:hover {\n",
              "      background-color: #E2EBFA;\n",
              "      box-shadow: 0px 1px 2px rgba(60, 64, 67, 0.3), 0px 1px 3px 1px rgba(60, 64, 67, 0.15);\n",
              "      fill: #174EA6;\n",
              "    }\n",
              "\n",
              "    [theme=dark] .colab-df-convert {\n",
              "      background-color: #3B4455;\n",
              "      fill: #D2E3FC;\n",
              "    }\n",
              "\n",
              "    [theme=dark] .colab-df-convert:hover {\n",
              "      background-color: #434B5C;\n",
              "      box-shadow: 0px 1px 3px 1px rgba(0, 0, 0, 0.15);\n",
              "      filter: drop-shadow(0px 1px 2px rgba(0, 0, 0, 0.3));\n",
              "      fill: #FFFFFF;\n",
              "    }\n",
              "  </style>\n",
              "\n",
              "      <script>\n",
              "        const buttonEl =\n",
              "          document.querySelector('#df-49cdb3e4-fd94-4c1a-884d-10b07ab86d52 button.colab-df-convert');\n",
              "        buttonEl.style.display =\n",
              "          google.colab.kernel.accessAllowed ? 'block' : 'none';\n",
              "\n",
              "        async function convertToInteractive(key) {\n",
              "          const element = document.querySelector('#df-49cdb3e4-fd94-4c1a-884d-10b07ab86d52');\n",
              "          const dataTable =\n",
              "            await google.colab.kernel.invokeFunction('convertToInteractive',\n",
              "                                                     [key], {});\n",
              "          if (!dataTable) return;\n",
              "\n",
              "          const docLinkHtml = 'Like what you see? Visit the ' +\n",
              "            '<a target=\"_blank\" href=https://colab.research.google.com/notebooks/data_table.ipynb>data table notebook</a>'\n",
              "            + ' to learn more about interactive tables.';\n",
              "          element.innerHTML = '';\n",
              "          dataTable['output_type'] = 'display_data';\n",
              "          await google.colab.output.renderOutput(dataTable, element);\n",
              "          const docLink = document.createElement('div');\n",
              "          docLink.innerHTML = docLinkHtml;\n",
              "          element.appendChild(docLink);\n",
              "        }\n",
              "      </script>\n",
              "    </div>\n",
              "  </div>\n",
              "  "
            ]
          },
          "metadata": {},
          "execution_count": 62
        }
      ]
    },
    {
      "cell_type": "code",
      "source": [
        "#Stopword\n",
        "from nltk.corpus import stopwords\n",
        "\n",
        "list_stopwords = set(stopwords.words('indonesian'))\n",
        "\n",
        "def stopword (text) :\n",
        "  return [word for word in text if not word in list_stopwords]\n",
        "\n",
        "training_data['Kalimat'] = training_data['Kalimat'].apply(lambda x : stopword(x))\n",
        "\n",
        "training_data"
      ],
      "metadata": {
        "colab": {
          "base_uri": "https://localhost:8080/",
          "height": 394
        },
        "id": "sZLCCUxvEM8Z",
        "outputId": "4ef1559a-48f0-4aa7-87fd-39c04b96e077"
      },
      "execution_count": null,
      "outputs": [
        {
          "output_type": "execute_result",
          "data": {
            "text/plain": [
              "                                               Kalimat\n",
              "D1   [pemerintah, kota, tarakan, mengutang, menutup...\n",
              "D2   [badan, pemeriksa, keuangan, bpk, kaltara, mem...\n",
              "D3                         [berhasil, ditutupi, silpa]\n",
              "D4   [data, dipaparkan, kepala, kantor, bpk, perwak...\n",
              "D5   [berkurang, akibat, defisit, 2014, rp, 325, 89...\n",
              "D6                                      [angka, silpa]\n",
              "D7   [sekretaris, kota, sekkot, tarakan, dr, khairu...\n",
              "D8                     [itukan, masuk, anggaran, 2015]\n",
              "D9                                             [pakai]\n",
              "D10  [hitung, 31, desember, 2015, pemkot, memiliki,...\n",
              "Q                         [dana, sisa, defisit, habis]"
            ],
            "text/html": [
              "\n",
              "  <div id=\"df-aa3e2b93-1612-4b99-ade2-1f6446738751\">\n",
              "    <div class=\"colab-df-container\">\n",
              "      <div>\n",
              "<style scoped>\n",
              "    .dataframe tbody tr th:only-of-type {\n",
              "        vertical-align: middle;\n",
              "    }\n",
              "\n",
              "    .dataframe tbody tr th {\n",
              "        vertical-align: top;\n",
              "    }\n",
              "\n",
              "    .dataframe thead th {\n",
              "        text-align: right;\n",
              "    }\n",
              "</style>\n",
              "<table border=\"1\" class=\"dataframe\">\n",
              "  <thead>\n",
              "    <tr style=\"text-align: right;\">\n",
              "      <th></th>\n",
              "      <th>Kalimat</th>\n",
              "    </tr>\n",
              "  </thead>\n",
              "  <tbody>\n",
              "    <tr>\n",
              "      <th>D1</th>\n",
              "      <td>[pemerintah, kota, tarakan, mengutang, menutup...</td>\n",
              "    </tr>\n",
              "    <tr>\n",
              "      <th>D2</th>\n",
              "      <td>[badan, pemeriksa, keuangan, bpk, kaltara, mem...</td>\n",
              "    </tr>\n",
              "    <tr>\n",
              "      <th>D3</th>\n",
              "      <td>[berhasil, ditutupi, silpa]</td>\n",
              "    </tr>\n",
              "    <tr>\n",
              "      <th>D4</th>\n",
              "      <td>[data, dipaparkan, kepala, kantor, bpk, perwak...</td>\n",
              "    </tr>\n",
              "    <tr>\n",
              "      <th>D5</th>\n",
              "      <td>[berkurang, akibat, defisit, 2014, rp, 325, 89...</td>\n",
              "    </tr>\n",
              "    <tr>\n",
              "      <th>D6</th>\n",
              "      <td>[angka, silpa]</td>\n",
              "    </tr>\n",
              "    <tr>\n",
              "      <th>D7</th>\n",
              "      <td>[sekretaris, kota, sekkot, tarakan, dr, khairu...</td>\n",
              "    </tr>\n",
              "    <tr>\n",
              "      <th>D8</th>\n",
              "      <td>[itukan, masuk, anggaran, 2015]</td>\n",
              "    </tr>\n",
              "    <tr>\n",
              "      <th>D9</th>\n",
              "      <td>[pakai]</td>\n",
              "    </tr>\n",
              "    <tr>\n",
              "      <th>D10</th>\n",
              "      <td>[hitung, 31, desember, 2015, pemkot, memiliki,...</td>\n",
              "    </tr>\n",
              "    <tr>\n",
              "      <th>Q</th>\n",
              "      <td>[dana, sisa, defisit, habis]</td>\n",
              "    </tr>\n",
              "  </tbody>\n",
              "</table>\n",
              "</div>\n",
              "      <button class=\"colab-df-convert\" onclick=\"convertToInteractive('df-aa3e2b93-1612-4b99-ade2-1f6446738751')\"\n",
              "              title=\"Convert this dataframe to an interactive table.\"\n",
              "              style=\"display:none;\">\n",
              "        \n",
              "  <svg xmlns=\"http://www.w3.org/2000/svg\" height=\"24px\"viewBox=\"0 0 24 24\"\n",
              "       width=\"24px\">\n",
              "    <path d=\"M0 0h24v24H0V0z\" fill=\"none\"/>\n",
              "    <path d=\"M18.56 5.44l.94 2.06.94-2.06 2.06-.94-2.06-.94-.94-2.06-.94 2.06-2.06.94zm-11 1L8.5 8.5l.94-2.06 2.06-.94-2.06-.94L8.5 2.5l-.94 2.06-2.06.94zm10 10l.94 2.06.94-2.06 2.06-.94-2.06-.94-.94-2.06-.94 2.06-2.06.94z\"/><path d=\"M17.41 7.96l-1.37-1.37c-.4-.4-.92-.59-1.43-.59-.52 0-1.04.2-1.43.59L10.3 9.45l-7.72 7.72c-.78.78-.78 2.05 0 2.83L4 21.41c.39.39.9.59 1.41.59.51 0 1.02-.2 1.41-.59l7.78-7.78 2.81-2.81c.8-.78.8-2.07 0-2.86zM5.41 20L4 18.59l7.72-7.72 1.47 1.35L5.41 20z\"/>\n",
              "  </svg>\n",
              "      </button>\n",
              "      \n",
              "  <style>\n",
              "    .colab-df-container {\n",
              "      display:flex;\n",
              "      flex-wrap:wrap;\n",
              "      gap: 12px;\n",
              "    }\n",
              "\n",
              "    .colab-df-convert {\n",
              "      background-color: #E8F0FE;\n",
              "      border: none;\n",
              "      border-radius: 50%;\n",
              "      cursor: pointer;\n",
              "      display: none;\n",
              "      fill: #1967D2;\n",
              "      height: 32px;\n",
              "      padding: 0 0 0 0;\n",
              "      width: 32px;\n",
              "    }\n",
              "\n",
              "    .colab-df-convert:hover {\n",
              "      background-color: #E2EBFA;\n",
              "      box-shadow: 0px 1px 2px rgba(60, 64, 67, 0.3), 0px 1px 3px 1px rgba(60, 64, 67, 0.15);\n",
              "      fill: #174EA6;\n",
              "    }\n",
              "\n",
              "    [theme=dark] .colab-df-convert {\n",
              "      background-color: #3B4455;\n",
              "      fill: #D2E3FC;\n",
              "    }\n",
              "\n",
              "    [theme=dark] .colab-df-convert:hover {\n",
              "      background-color: #434B5C;\n",
              "      box-shadow: 0px 1px 3px 1px rgba(0, 0, 0, 0.15);\n",
              "      filter: drop-shadow(0px 1px 2px rgba(0, 0, 0, 0.3));\n",
              "      fill: #FFFFFF;\n",
              "    }\n",
              "  </style>\n",
              "\n",
              "      <script>\n",
              "        const buttonEl =\n",
              "          document.querySelector('#df-aa3e2b93-1612-4b99-ade2-1f6446738751 button.colab-df-convert');\n",
              "        buttonEl.style.display =\n",
              "          google.colab.kernel.accessAllowed ? 'block' : 'none';\n",
              "\n",
              "        async function convertToInteractive(key) {\n",
              "          const element = document.querySelector('#df-aa3e2b93-1612-4b99-ade2-1f6446738751');\n",
              "          const dataTable =\n",
              "            await google.colab.kernel.invokeFunction('convertToInteractive',\n",
              "                                                     [key], {});\n",
              "          if (!dataTable) return;\n",
              "\n",
              "          const docLinkHtml = 'Like what you see? Visit the ' +\n",
              "            '<a target=\"_blank\" href=https://colab.research.google.com/notebooks/data_table.ipynb>data table notebook</a>'\n",
              "            + ' to learn more about interactive tables.';\n",
              "          element.innerHTML = '';\n",
              "          dataTable['output_type'] = 'display_data';\n",
              "          await google.colab.output.renderOutput(dataTable, element);\n",
              "          const docLink = document.createElement('div');\n",
              "          docLink.innerHTML = docLinkHtml;\n",
              "          element.appendChild(docLink);\n",
              "        }\n",
              "      </script>\n",
              "    </div>\n",
              "  </div>\n",
              "  "
            ]
          },
          "metadata": {},
          "execution_count": 63
        }
      ]
    },
    {
      "cell_type": "code",
      "source": [
        "#Stemming\n",
        "!pip install Sastrawi\n",
        "from Sastrawi.Stemmer.StemmerFactory import StemmerFactory\n",
        "\n",
        "factory = StemmerFactory()\n",
        "stemmer = factory.create_stemmer()\n",
        "\n",
        "def stemming (tokens) :\n",
        "  return [(stemmer.stem(token)) for token in tokens]\n",
        "\n",
        "training_data['Kalimat'] = training_data['Kalimat'].apply(lambda x : stemming(x))\n",
        "\n",
        "training_data"
      ],
      "metadata": {
        "colab": {
          "base_uri": "https://localhost:8080/",
          "height": 429
        },
        "id": "d_r4cqs1EMtL",
        "outputId": "fd519107-ba67-49bb-afaa-736fdaa096b8"
      },
      "execution_count": null,
      "outputs": [
        {
          "output_type": "stream",
          "name": "stdout",
          "text": [
            "Looking in indexes: https://pypi.org/simple, https://us-python.pkg.dev/colab-wheels/public/simple/\n",
            "Requirement already satisfied: Sastrawi in /usr/local/lib/python3.7/dist-packages (1.0.1)\n"
          ]
        },
        {
          "output_type": "execute_result",
          "data": {
            "text/plain": [
              "                                               Kalimat\n",
              "D1   [perintah, kota, tara, utang, tutup, wajib, ba...\n",
              "D2   [badan, periksa, uang, bpk, kaltara, papar, pe...\n",
              "D3                               [hasil, tutup, silpa]\n",
              "D4   [data, papar, kepala, kantor, bpk, wakil, kali...\n",
              "D5   [kurang, akibat, defisit, 2014, rp, 325, 89, s...\n",
              "D6                                      [angka, silpa]\n",
              "D7   [sekretaris, kota, sekkot, tara, dr, khairul, ...\n",
              "D8                          [itu, masuk, anggar, 2015]\n",
              "D9                                             [pakai]\n",
              "D10  [hitung, 31, desember, 2015, pemkot, milik, wa...\n",
              "Q                         [dana, sisa, defisit, habis]"
            ],
            "text/html": [
              "\n",
              "  <div id=\"df-7c960be6-7166-484a-b6c1-8484d63ced27\">\n",
              "    <div class=\"colab-df-container\">\n",
              "      <div>\n",
              "<style scoped>\n",
              "    .dataframe tbody tr th:only-of-type {\n",
              "        vertical-align: middle;\n",
              "    }\n",
              "\n",
              "    .dataframe tbody tr th {\n",
              "        vertical-align: top;\n",
              "    }\n",
              "\n",
              "    .dataframe thead th {\n",
              "        text-align: right;\n",
              "    }\n",
              "</style>\n",
              "<table border=\"1\" class=\"dataframe\">\n",
              "  <thead>\n",
              "    <tr style=\"text-align: right;\">\n",
              "      <th></th>\n",
              "      <th>Kalimat</th>\n",
              "    </tr>\n",
              "  </thead>\n",
              "  <tbody>\n",
              "    <tr>\n",
              "      <th>D1</th>\n",
              "      <td>[perintah, kota, tara, utang, tutup, wajib, ba...</td>\n",
              "    </tr>\n",
              "    <tr>\n",
              "      <th>D2</th>\n",
              "      <td>[badan, periksa, uang, bpk, kaltara, papar, pe...</td>\n",
              "    </tr>\n",
              "    <tr>\n",
              "      <th>D3</th>\n",
              "      <td>[hasil, tutup, silpa]</td>\n",
              "    </tr>\n",
              "    <tr>\n",
              "      <th>D4</th>\n",
              "      <td>[data, papar, kepala, kantor, bpk, wakil, kali...</td>\n",
              "    </tr>\n",
              "    <tr>\n",
              "      <th>D5</th>\n",
              "      <td>[kurang, akibat, defisit, 2014, rp, 325, 89, s...</td>\n",
              "    </tr>\n",
              "    <tr>\n",
              "      <th>D6</th>\n",
              "      <td>[angka, silpa]</td>\n",
              "    </tr>\n",
              "    <tr>\n",
              "      <th>D7</th>\n",
              "      <td>[sekretaris, kota, sekkot, tara, dr, khairul, ...</td>\n",
              "    </tr>\n",
              "    <tr>\n",
              "      <th>D8</th>\n",
              "      <td>[itu, masuk, anggar, 2015]</td>\n",
              "    </tr>\n",
              "    <tr>\n",
              "      <th>D9</th>\n",
              "      <td>[pakai]</td>\n",
              "    </tr>\n",
              "    <tr>\n",
              "      <th>D10</th>\n",
              "      <td>[hitung, 31, desember, 2015, pemkot, milik, wa...</td>\n",
              "    </tr>\n",
              "    <tr>\n",
              "      <th>Q</th>\n",
              "      <td>[dana, sisa, defisit, habis]</td>\n",
              "    </tr>\n",
              "  </tbody>\n",
              "</table>\n",
              "</div>\n",
              "      <button class=\"colab-df-convert\" onclick=\"convertToInteractive('df-7c960be6-7166-484a-b6c1-8484d63ced27')\"\n",
              "              title=\"Convert this dataframe to an interactive table.\"\n",
              "              style=\"display:none;\">\n",
              "        \n",
              "  <svg xmlns=\"http://www.w3.org/2000/svg\" height=\"24px\"viewBox=\"0 0 24 24\"\n",
              "       width=\"24px\">\n",
              "    <path d=\"M0 0h24v24H0V0z\" fill=\"none\"/>\n",
              "    <path d=\"M18.56 5.44l.94 2.06.94-2.06 2.06-.94-2.06-.94-.94-2.06-.94 2.06-2.06.94zm-11 1L8.5 8.5l.94-2.06 2.06-.94-2.06-.94L8.5 2.5l-.94 2.06-2.06.94zm10 10l.94 2.06.94-2.06 2.06-.94-2.06-.94-.94-2.06-.94 2.06-2.06.94z\"/><path d=\"M17.41 7.96l-1.37-1.37c-.4-.4-.92-.59-1.43-.59-.52 0-1.04.2-1.43.59L10.3 9.45l-7.72 7.72c-.78.78-.78 2.05 0 2.83L4 21.41c.39.39.9.59 1.41.59.51 0 1.02-.2 1.41-.59l7.78-7.78 2.81-2.81c.8-.78.8-2.07 0-2.86zM5.41 20L4 18.59l7.72-7.72 1.47 1.35L5.41 20z\"/>\n",
              "  </svg>\n",
              "      </button>\n",
              "      \n",
              "  <style>\n",
              "    .colab-df-container {\n",
              "      display:flex;\n",
              "      flex-wrap:wrap;\n",
              "      gap: 12px;\n",
              "    }\n",
              "\n",
              "    .colab-df-convert {\n",
              "      background-color: #E8F0FE;\n",
              "      border: none;\n",
              "      border-radius: 50%;\n",
              "      cursor: pointer;\n",
              "      display: none;\n",
              "      fill: #1967D2;\n",
              "      height: 32px;\n",
              "      padding: 0 0 0 0;\n",
              "      width: 32px;\n",
              "    }\n",
              "\n",
              "    .colab-df-convert:hover {\n",
              "      background-color: #E2EBFA;\n",
              "      box-shadow: 0px 1px 2px rgba(60, 64, 67, 0.3), 0px 1px 3px 1px rgba(60, 64, 67, 0.15);\n",
              "      fill: #174EA6;\n",
              "    }\n",
              "\n",
              "    [theme=dark] .colab-df-convert {\n",
              "      background-color: #3B4455;\n",
              "      fill: #D2E3FC;\n",
              "    }\n",
              "\n",
              "    [theme=dark] .colab-df-convert:hover {\n",
              "      background-color: #434B5C;\n",
              "      box-shadow: 0px 1px 3px 1px rgba(0, 0, 0, 0.15);\n",
              "      filter: drop-shadow(0px 1px 2px rgba(0, 0, 0, 0.3));\n",
              "      fill: #FFFFFF;\n",
              "    }\n",
              "  </style>\n",
              "\n",
              "      <script>\n",
              "        const buttonEl =\n",
              "          document.querySelector('#df-7c960be6-7166-484a-b6c1-8484d63ced27 button.colab-df-convert');\n",
              "        buttonEl.style.display =\n",
              "          google.colab.kernel.accessAllowed ? 'block' : 'none';\n",
              "\n",
              "        async function convertToInteractive(key) {\n",
              "          const element = document.querySelector('#df-7c960be6-7166-484a-b6c1-8484d63ced27');\n",
              "          const dataTable =\n",
              "            await google.colab.kernel.invokeFunction('convertToInteractive',\n",
              "                                                     [key], {});\n",
              "          if (!dataTable) return;\n",
              "\n",
              "          const docLinkHtml = 'Like what you see? Visit the ' +\n",
              "            '<a target=\"_blank\" href=https://colab.research.google.com/notebooks/data_table.ipynb>data table notebook</a>'\n",
              "            + ' to learn more about interactive tables.';\n",
              "          element.innerHTML = '';\n",
              "          dataTable['output_type'] = 'display_data';\n",
              "          await google.colab.output.renderOutput(dataTable, element);\n",
              "          const docLink = document.createElement('div');\n",
              "          docLink.innerHTML = docLinkHtml;\n",
              "          element.appendChild(docLink);\n",
              "        }\n",
              "      </script>\n",
              "    </div>\n",
              "  </div>\n",
              "  "
            ]
          },
          "metadata": {},
          "execution_count": 64
        }
      ]
    },
    {
      "cell_type": "code",
      "source": [
        "#Inverted Index"
      ],
      "metadata": {
        "id": "CRjObYGNEYtO"
      },
      "execution_count": null,
      "outputs": []
    },
    {
      "cell_type": "code",
      "source": [
        "term = []\n",
        "\n",
        "for i in range(10):\n",
        "   term = term + list(set(term).union(set(training_data['Kalimat'][i])))\n",
        "\n",
        "term = list(dict.fromkeys(term))\n",
        "print(term)"
      ],
      "metadata": {
        "colab": {
          "base_uri": "https://localhost:8080/"
        },
        "id": "32tPFrqEbLXE",
        "outputId": "0c5248c4-c7c7-4fd0-a008-e7c55a40d30e"
      },
      "execution_count": null,
      "outputs": [
        {
          "output_type": "stream",
          "name": "stdout",
          "text": [
            "['kota', 'perintah', 'habis', 'defisit', 'tutup', '2015', 'hasil', 'sisa', 'tara', 'bayar', 'silpa', 'utang', 'dana', 'wajib', 'guna', 'anggar', 'papar', 'uang', 'periksa', 'bpk', 'pemkot', 'alami', 'kaltara', 'badan', 'kantor', '30', 'kepala', 'rp', 'data', '531', 'utara', '323', 'milik', '15', 'iwan', 'kalimantan', '2013', '2012', 'rusmana', 'ade', 'miliar', 'wakil', '859', '2014', '325', '27', '205', '89', 'akibat', 'kurang', 'angka', 'khairul', 'masuk', 'susun', 'tpad', 'sekretaris', 'daerah', 'jabat', 'dr', 'struktur', 'ketua', 'tim', 'sekkot', 'itu', 'pakai', 'desember', 'hitung', '31', '95']\n"
          ]
        }
      ]
    },
    {
      "cell_type": "code",
      "source": [
        "dict = {}\n",
        "  \n",
        "for i in range(10):\n",
        "    check = training_data['Kalimat'][i]\n",
        "\n",
        "    for item in term:\n",
        "        if item in check:\n",
        "            if item not in dict:\n",
        "                dict[item] = []\n",
        "\n",
        "            if item in dict:\n",
        "                dict[item].append(i+1)\n",
        "  \n",
        "print(dict)"
      ],
      "metadata": {
        "colab": {
          "base_uri": "https://localhost:8080/"
        },
        "id": "noJ3drYyZKf5",
        "outputId": "cc4279fb-b1dd-47bf-90aa-b8fd298e83b5"
      },
      "execution_count": null,
      "outputs": [
        {
          "output_type": "stream",
          "name": "stdout",
          "text": [
            "{'kota': [1, 7], 'perintah': [1], 'habis': [1, 7], 'defisit': [1, 2, 4, 5], 'tutup': [1, 3], '2015': [1, 7, 8, 10], 'hasil': [1, 3], 'sisa': [1, 4, 5], 'tara': [1, 2, 4, 7], 'bayar': [1, 10], 'silpa': [1, 3, 4, 5, 6], 'utang': [1], 'dana': [1, 4, 7], 'wajib': [1, 10], 'guna': [1], 'anggar': [1, 2, 7, 8], 'papar': [2, 4], 'uang': [2], 'periksa': [2], 'bpk': [2, 4], 'pemkot': [2, 4, 10], 'alami': [2], 'kaltara': [2, 4], 'badan': [2], 'kantor': [4], '30': [4], 'kepala': [4], 'rp': [4, 5, 7, 10], 'data': [4], '531': [4], 'utara': [4], '323': [4], 'milik': [4, 10], '15': [4], 'iwan': [4], 'kalimantan': [4], '2013': [4], '2012': [4], 'rusmana': [4], 'ade': [4], 'miliar': [4, 5, 7, 10], 'wakil': [4], '859': [4], '2014': [5], '325': [5], '27': [5, 7], '205': [5, 7], '89': [5], 'akibat': [5], 'kurang': [5], 'angka': [6], 'khairul': [7], 'masuk': [7, 8], 'susun': [7], 'tpad': [7], 'sekretaris': [7], 'daerah': [7], 'jabat': [7], 'dr': [7], 'struktur': [7], 'ketua': [7], 'tim': [7], 'sekkot': [7], 'itu': [8], 'pakai': [9], 'desember': [10], 'hitung': [10], '31': [10], '95': [10]}\n"
          ]
        }
      ]
    },
    {
      "cell_type": "code",
      "source": [
        "#Raw Term Frequency"
      ],
      "metadata": {
        "id": "W3iIIcWmEYoS"
      },
      "execution_count": null,
      "outputs": []
    },
    {
      "cell_type": "code",
      "metadata": {
        "colab": {
          "base_uri": "https://localhost:8080/"
        },
        "id": "-HhMDv9mWqT2",
        "outputId": "ffedbbfe-c164-44d0-885f-1776b3efe393"
      },
      "source": [
        "count_rtf = []\n",
        "\n",
        "for i in range(11):\n",
        "   count_rtf.append(0)\n",
        "\n",
        "for i in range(11):\n",
        "   count_rtf[i] = dict.fromkeys(term, 0)\n",
        "\n",
        "print(count_rtf)"
      ],
      "execution_count": null,
      "outputs": [
        {
          "output_type": "stream",
          "name": "stdout",
          "text": [
            "[{'kota': 0, 'perintah': 0, 'habis': 0, 'defisit': 0, 'tutup': 0, '2015': 0, 'hasil': 0, 'sisa': 0, 'tara': 0, 'bayar': 0, 'silpa': 0, 'utang': 0, 'dana': 0, 'wajib': 0, 'guna': 0, 'anggar': 0, 'papar': 0, 'uang': 0, 'periksa': 0, 'bpk': 0, 'pemkot': 0, 'alami': 0, 'kaltara': 0, 'badan': 0, 'kantor': 0, '30': 0, 'kepala': 0, 'rp': 0, 'data': 0, '531': 0, 'utara': 0, '323': 0, 'milik': 0, '15': 0, 'iwan': 0, 'kalimantan': 0, '2013': 0, '2012': 0, 'rusmana': 0, 'ade': 0, 'miliar': 0, 'wakil': 0, '859': 0, '2014': 0, '325': 0, '27': 0, '205': 0, '89': 0, 'akibat': 0, 'kurang': 0, 'angka': 0, 'khairul': 0, 'masuk': 0, 'susun': 0, 'tpad': 0, 'sekretaris': 0, 'daerah': 0, 'jabat': 0, 'dr': 0, 'struktur': 0, 'ketua': 0, 'tim': 0, 'sekkot': 0, 'itu': 0, 'pakai': 0, 'desember': 0, 'hitung': 0, '31': 0, '95': 0}, {'kota': 0, 'perintah': 0, 'habis': 0, 'defisit': 0, 'tutup': 0, '2015': 0, 'hasil': 0, 'sisa': 0, 'tara': 0, 'bayar': 0, 'silpa': 0, 'utang': 0, 'dana': 0, 'wajib': 0, 'guna': 0, 'anggar': 0, 'papar': 0, 'uang': 0, 'periksa': 0, 'bpk': 0, 'pemkot': 0, 'alami': 0, 'kaltara': 0, 'badan': 0, 'kantor': 0, '30': 0, 'kepala': 0, 'rp': 0, 'data': 0, '531': 0, 'utara': 0, '323': 0, 'milik': 0, '15': 0, 'iwan': 0, 'kalimantan': 0, '2013': 0, '2012': 0, 'rusmana': 0, 'ade': 0, 'miliar': 0, 'wakil': 0, '859': 0, '2014': 0, '325': 0, '27': 0, '205': 0, '89': 0, 'akibat': 0, 'kurang': 0, 'angka': 0, 'khairul': 0, 'masuk': 0, 'susun': 0, 'tpad': 0, 'sekretaris': 0, 'daerah': 0, 'jabat': 0, 'dr': 0, 'struktur': 0, 'ketua': 0, 'tim': 0, 'sekkot': 0, 'itu': 0, 'pakai': 0, 'desember': 0, 'hitung': 0, '31': 0, '95': 0}, {'kota': 0, 'perintah': 0, 'habis': 0, 'defisit': 0, 'tutup': 0, '2015': 0, 'hasil': 0, 'sisa': 0, 'tara': 0, 'bayar': 0, 'silpa': 0, 'utang': 0, 'dana': 0, 'wajib': 0, 'guna': 0, 'anggar': 0, 'papar': 0, 'uang': 0, 'periksa': 0, 'bpk': 0, 'pemkot': 0, 'alami': 0, 'kaltara': 0, 'badan': 0, 'kantor': 0, '30': 0, 'kepala': 0, 'rp': 0, 'data': 0, '531': 0, 'utara': 0, '323': 0, 'milik': 0, '15': 0, 'iwan': 0, 'kalimantan': 0, '2013': 0, '2012': 0, 'rusmana': 0, 'ade': 0, 'miliar': 0, 'wakil': 0, '859': 0, '2014': 0, '325': 0, '27': 0, '205': 0, '89': 0, 'akibat': 0, 'kurang': 0, 'angka': 0, 'khairul': 0, 'masuk': 0, 'susun': 0, 'tpad': 0, 'sekretaris': 0, 'daerah': 0, 'jabat': 0, 'dr': 0, 'struktur': 0, 'ketua': 0, 'tim': 0, 'sekkot': 0, 'itu': 0, 'pakai': 0, 'desember': 0, 'hitung': 0, '31': 0, '95': 0}, {'kota': 0, 'perintah': 0, 'habis': 0, 'defisit': 0, 'tutup': 0, '2015': 0, 'hasil': 0, 'sisa': 0, 'tara': 0, 'bayar': 0, 'silpa': 0, 'utang': 0, 'dana': 0, 'wajib': 0, 'guna': 0, 'anggar': 0, 'papar': 0, 'uang': 0, 'periksa': 0, 'bpk': 0, 'pemkot': 0, 'alami': 0, 'kaltara': 0, 'badan': 0, 'kantor': 0, '30': 0, 'kepala': 0, 'rp': 0, 'data': 0, '531': 0, 'utara': 0, '323': 0, 'milik': 0, '15': 0, 'iwan': 0, 'kalimantan': 0, '2013': 0, '2012': 0, 'rusmana': 0, 'ade': 0, 'miliar': 0, 'wakil': 0, '859': 0, '2014': 0, '325': 0, '27': 0, '205': 0, '89': 0, 'akibat': 0, 'kurang': 0, 'angka': 0, 'khairul': 0, 'masuk': 0, 'susun': 0, 'tpad': 0, 'sekretaris': 0, 'daerah': 0, 'jabat': 0, 'dr': 0, 'struktur': 0, 'ketua': 0, 'tim': 0, 'sekkot': 0, 'itu': 0, 'pakai': 0, 'desember': 0, 'hitung': 0, '31': 0, '95': 0}, {'kota': 0, 'perintah': 0, 'habis': 0, 'defisit': 0, 'tutup': 0, '2015': 0, 'hasil': 0, 'sisa': 0, 'tara': 0, 'bayar': 0, 'silpa': 0, 'utang': 0, 'dana': 0, 'wajib': 0, 'guna': 0, 'anggar': 0, 'papar': 0, 'uang': 0, 'periksa': 0, 'bpk': 0, 'pemkot': 0, 'alami': 0, 'kaltara': 0, 'badan': 0, 'kantor': 0, '30': 0, 'kepala': 0, 'rp': 0, 'data': 0, '531': 0, 'utara': 0, '323': 0, 'milik': 0, '15': 0, 'iwan': 0, 'kalimantan': 0, '2013': 0, '2012': 0, 'rusmana': 0, 'ade': 0, 'miliar': 0, 'wakil': 0, '859': 0, '2014': 0, '325': 0, '27': 0, '205': 0, '89': 0, 'akibat': 0, 'kurang': 0, 'angka': 0, 'khairul': 0, 'masuk': 0, 'susun': 0, 'tpad': 0, 'sekretaris': 0, 'daerah': 0, 'jabat': 0, 'dr': 0, 'struktur': 0, 'ketua': 0, 'tim': 0, 'sekkot': 0, 'itu': 0, 'pakai': 0, 'desember': 0, 'hitung': 0, '31': 0, '95': 0}, {'kota': 0, 'perintah': 0, 'habis': 0, 'defisit': 0, 'tutup': 0, '2015': 0, 'hasil': 0, 'sisa': 0, 'tara': 0, 'bayar': 0, 'silpa': 0, 'utang': 0, 'dana': 0, 'wajib': 0, 'guna': 0, 'anggar': 0, 'papar': 0, 'uang': 0, 'periksa': 0, 'bpk': 0, 'pemkot': 0, 'alami': 0, 'kaltara': 0, 'badan': 0, 'kantor': 0, '30': 0, 'kepala': 0, 'rp': 0, 'data': 0, '531': 0, 'utara': 0, '323': 0, 'milik': 0, '15': 0, 'iwan': 0, 'kalimantan': 0, '2013': 0, '2012': 0, 'rusmana': 0, 'ade': 0, 'miliar': 0, 'wakil': 0, '859': 0, '2014': 0, '325': 0, '27': 0, '205': 0, '89': 0, 'akibat': 0, 'kurang': 0, 'angka': 0, 'khairul': 0, 'masuk': 0, 'susun': 0, 'tpad': 0, 'sekretaris': 0, 'daerah': 0, 'jabat': 0, 'dr': 0, 'struktur': 0, 'ketua': 0, 'tim': 0, 'sekkot': 0, 'itu': 0, 'pakai': 0, 'desember': 0, 'hitung': 0, '31': 0, '95': 0}, {'kota': 0, 'perintah': 0, 'habis': 0, 'defisit': 0, 'tutup': 0, '2015': 0, 'hasil': 0, 'sisa': 0, 'tara': 0, 'bayar': 0, 'silpa': 0, 'utang': 0, 'dana': 0, 'wajib': 0, 'guna': 0, 'anggar': 0, 'papar': 0, 'uang': 0, 'periksa': 0, 'bpk': 0, 'pemkot': 0, 'alami': 0, 'kaltara': 0, 'badan': 0, 'kantor': 0, '30': 0, 'kepala': 0, 'rp': 0, 'data': 0, '531': 0, 'utara': 0, '323': 0, 'milik': 0, '15': 0, 'iwan': 0, 'kalimantan': 0, '2013': 0, '2012': 0, 'rusmana': 0, 'ade': 0, 'miliar': 0, 'wakil': 0, '859': 0, '2014': 0, '325': 0, '27': 0, '205': 0, '89': 0, 'akibat': 0, 'kurang': 0, 'angka': 0, 'khairul': 0, 'masuk': 0, 'susun': 0, 'tpad': 0, 'sekretaris': 0, 'daerah': 0, 'jabat': 0, 'dr': 0, 'struktur': 0, 'ketua': 0, 'tim': 0, 'sekkot': 0, 'itu': 0, 'pakai': 0, 'desember': 0, 'hitung': 0, '31': 0, '95': 0}, {'kota': 0, 'perintah': 0, 'habis': 0, 'defisit': 0, 'tutup': 0, '2015': 0, 'hasil': 0, 'sisa': 0, 'tara': 0, 'bayar': 0, 'silpa': 0, 'utang': 0, 'dana': 0, 'wajib': 0, 'guna': 0, 'anggar': 0, 'papar': 0, 'uang': 0, 'periksa': 0, 'bpk': 0, 'pemkot': 0, 'alami': 0, 'kaltara': 0, 'badan': 0, 'kantor': 0, '30': 0, 'kepala': 0, 'rp': 0, 'data': 0, '531': 0, 'utara': 0, '323': 0, 'milik': 0, '15': 0, 'iwan': 0, 'kalimantan': 0, '2013': 0, '2012': 0, 'rusmana': 0, 'ade': 0, 'miliar': 0, 'wakil': 0, '859': 0, '2014': 0, '325': 0, '27': 0, '205': 0, '89': 0, 'akibat': 0, 'kurang': 0, 'angka': 0, 'khairul': 0, 'masuk': 0, 'susun': 0, 'tpad': 0, 'sekretaris': 0, 'daerah': 0, 'jabat': 0, 'dr': 0, 'struktur': 0, 'ketua': 0, 'tim': 0, 'sekkot': 0, 'itu': 0, 'pakai': 0, 'desember': 0, 'hitung': 0, '31': 0, '95': 0}, {'kota': 0, 'perintah': 0, 'habis': 0, 'defisit': 0, 'tutup': 0, '2015': 0, 'hasil': 0, 'sisa': 0, 'tara': 0, 'bayar': 0, 'silpa': 0, 'utang': 0, 'dana': 0, 'wajib': 0, 'guna': 0, 'anggar': 0, 'papar': 0, 'uang': 0, 'periksa': 0, 'bpk': 0, 'pemkot': 0, 'alami': 0, 'kaltara': 0, 'badan': 0, 'kantor': 0, '30': 0, 'kepala': 0, 'rp': 0, 'data': 0, '531': 0, 'utara': 0, '323': 0, 'milik': 0, '15': 0, 'iwan': 0, 'kalimantan': 0, '2013': 0, '2012': 0, 'rusmana': 0, 'ade': 0, 'miliar': 0, 'wakil': 0, '859': 0, '2014': 0, '325': 0, '27': 0, '205': 0, '89': 0, 'akibat': 0, 'kurang': 0, 'angka': 0, 'khairul': 0, 'masuk': 0, 'susun': 0, 'tpad': 0, 'sekretaris': 0, 'daerah': 0, 'jabat': 0, 'dr': 0, 'struktur': 0, 'ketua': 0, 'tim': 0, 'sekkot': 0, 'itu': 0, 'pakai': 0, 'desember': 0, 'hitung': 0, '31': 0, '95': 0}, {'kota': 0, 'perintah': 0, 'habis': 0, 'defisit': 0, 'tutup': 0, '2015': 0, 'hasil': 0, 'sisa': 0, 'tara': 0, 'bayar': 0, 'silpa': 0, 'utang': 0, 'dana': 0, 'wajib': 0, 'guna': 0, 'anggar': 0, 'papar': 0, 'uang': 0, 'periksa': 0, 'bpk': 0, 'pemkot': 0, 'alami': 0, 'kaltara': 0, 'badan': 0, 'kantor': 0, '30': 0, 'kepala': 0, 'rp': 0, 'data': 0, '531': 0, 'utara': 0, '323': 0, 'milik': 0, '15': 0, 'iwan': 0, 'kalimantan': 0, '2013': 0, '2012': 0, 'rusmana': 0, 'ade': 0, 'miliar': 0, 'wakil': 0, '859': 0, '2014': 0, '325': 0, '27': 0, '205': 0, '89': 0, 'akibat': 0, 'kurang': 0, 'angka': 0, 'khairul': 0, 'masuk': 0, 'susun': 0, 'tpad': 0, 'sekretaris': 0, 'daerah': 0, 'jabat': 0, 'dr': 0, 'struktur': 0, 'ketua': 0, 'tim': 0, 'sekkot': 0, 'itu': 0, 'pakai': 0, 'desember': 0, 'hitung': 0, '31': 0, '95': 0}, {'kota': 0, 'perintah': 0, 'habis': 0, 'defisit': 0, 'tutup': 0, '2015': 0, 'hasil': 0, 'sisa': 0, 'tara': 0, 'bayar': 0, 'silpa': 0, 'utang': 0, 'dana': 0, 'wajib': 0, 'guna': 0, 'anggar': 0, 'papar': 0, 'uang': 0, 'periksa': 0, 'bpk': 0, 'pemkot': 0, 'alami': 0, 'kaltara': 0, 'badan': 0, 'kantor': 0, '30': 0, 'kepala': 0, 'rp': 0, 'data': 0, '531': 0, 'utara': 0, '323': 0, 'milik': 0, '15': 0, 'iwan': 0, 'kalimantan': 0, '2013': 0, '2012': 0, 'rusmana': 0, 'ade': 0, 'miliar': 0, 'wakil': 0, '859': 0, '2014': 0, '325': 0, '27': 0, '205': 0, '89': 0, 'akibat': 0, 'kurang': 0, 'angka': 0, 'khairul': 0, 'masuk': 0, 'susun': 0, 'tpad': 0, 'sekretaris': 0, 'daerah': 0, 'jabat': 0, 'dr': 0, 'struktur': 0, 'ketua': 0, 'tim': 0, 'sekkot': 0, 'itu': 0, 'pakai': 0, 'desember': 0, 'hitung': 0, '31': 0, '95': 0}]\n"
          ]
        }
      ]
    },
    {
      "cell_type": "code",
      "source": [
        "for i in range(11):\n",
        "   for word in training_data['Kalimat'][i]:\n",
        "      count_rtf[i][word] += 1\n",
        "\n",
        "print(count_rtf)"
      ],
      "metadata": {
        "colab": {
          "base_uri": "https://localhost:8080/"
        },
        "id": "iqUJCfGWUUr3",
        "outputId": "e4a94264-2d18-496b-bc13-a5e731dc8192"
      },
      "execution_count": null,
      "outputs": [
        {
          "output_type": "stream",
          "name": "stdout",
          "text": [
            "[{'kota': 1, 'perintah': 1, 'habis': 1, 'defisit': 1, 'tutup': 2, '2015': 1, 'hasil': 1, 'sisa': 1, 'tara': 1, 'bayar': 1, 'silpa': 1, 'utang': 1, 'dana': 1, 'wajib': 1, 'guna': 1, 'anggar': 2, 'papar': 0, 'uang': 0, 'periksa': 0, 'bpk': 0, 'pemkot': 0, 'alami': 0, 'kaltara': 0, 'badan': 0, 'kantor': 0, '30': 0, 'kepala': 0, 'rp': 0, 'data': 0, '531': 0, 'utara': 0, '323': 0, 'milik': 0, '15': 0, 'iwan': 0, 'kalimantan': 0, '2013': 0, '2012': 0, 'rusmana': 0, 'ade': 0, 'miliar': 0, 'wakil': 0, '859': 0, '2014': 0, '325': 0, '27': 0, '205': 0, '89': 0, 'akibat': 0, 'kurang': 0, 'angka': 0, 'khairul': 0, 'masuk': 0, 'susun': 0, 'tpad': 0, 'sekretaris': 0, 'daerah': 0, 'jabat': 0, 'dr': 0, 'struktur': 0, 'ketua': 0, 'tim': 0, 'sekkot': 0, 'itu': 0, 'pakai': 0, 'desember': 0, 'hitung': 0, '31': 0, '95': 0}, {'kota': 0, 'perintah': 0, 'habis': 0, 'defisit': 1, 'tutup': 0, '2015': 0, 'hasil': 0, 'sisa': 0, 'tara': 1, 'bayar': 0, 'silpa': 0, 'utang': 0, 'dana': 0, 'wajib': 0, 'guna': 0, 'anggar': 1, 'papar': 1, 'uang': 1, 'periksa': 1, 'bpk': 1, 'pemkot': 1, 'alami': 1, 'kaltara': 1, 'badan': 1, 'kantor': 0, '30': 0, 'kepala': 0, 'rp': 0, 'data': 0, '531': 0, 'utara': 0, '323': 0, 'milik': 0, '15': 0, 'iwan': 0, 'kalimantan': 0, '2013': 0, '2012': 0, 'rusmana': 0, 'ade': 0, 'miliar': 0, 'wakil': 0, '859': 0, '2014': 0, '325': 0, '27': 0, '205': 0, '89': 0, 'akibat': 0, 'kurang': 0, 'angka': 0, 'khairul': 0, 'masuk': 0, 'susun': 0, 'tpad': 0, 'sekretaris': 0, 'daerah': 0, 'jabat': 0, 'dr': 0, 'struktur': 0, 'ketua': 0, 'tim': 0, 'sekkot': 0, 'itu': 0, 'pakai': 0, 'desember': 0, 'hitung': 0, '31': 0, '95': 0}, {'kota': 0, 'perintah': 0, 'habis': 0, 'defisit': 0, 'tutup': 1, '2015': 0, 'hasil': 1, 'sisa': 0, 'tara': 0, 'bayar': 0, 'silpa': 1, 'utang': 0, 'dana': 0, 'wajib': 0, 'guna': 0, 'anggar': 0, 'papar': 0, 'uang': 0, 'periksa': 0, 'bpk': 0, 'pemkot': 0, 'alami': 0, 'kaltara': 0, 'badan': 0, 'kantor': 0, '30': 0, 'kepala': 0, 'rp': 0, 'data': 0, '531': 0, 'utara': 0, '323': 0, 'milik': 0, '15': 0, 'iwan': 0, 'kalimantan': 0, '2013': 0, '2012': 0, 'rusmana': 0, 'ade': 0, 'miliar': 0, 'wakil': 0, '859': 0, '2014': 0, '325': 0, '27': 0, '205': 0, '89': 0, 'akibat': 0, 'kurang': 0, 'angka': 0, 'khairul': 0, 'masuk': 0, 'susun': 0, 'tpad': 0, 'sekretaris': 0, 'daerah': 0, 'jabat': 0, 'dr': 0, 'struktur': 0, 'ketua': 0, 'tim': 0, 'sekkot': 0, 'itu': 0, 'pakai': 0, 'desember': 0, 'hitung': 0, '31': 0, '95': 0}, {'kota': 0, 'perintah': 0, 'habis': 0, 'defisit': 1, 'tutup': 0, '2015': 0, 'hasil': 0, 'sisa': 1, 'tara': 1, 'bayar': 0, 'silpa': 1, 'utang': 0, 'dana': 1, 'wajib': 0, 'guna': 0, 'anggar': 0, 'papar': 1, 'uang': 0, 'periksa': 0, 'bpk': 1, 'pemkot': 1, 'alami': 0, 'kaltara': 1, 'badan': 0, 'kantor': 1, '30': 1, 'kepala': 1, 'rp': 3, 'data': 1, '531': 1, 'utara': 1, '323': 1, 'milik': 1, '15': 1, 'iwan': 1, 'kalimantan': 1, '2013': 1, '2012': 1, 'rusmana': 1, 'ade': 1, 'miliar': 3, 'wakil': 1, '859': 1, '2014': 0, '325': 0, '27': 0, '205': 0, '89': 0, 'akibat': 0, 'kurang': 0, 'angka': 0, 'khairul': 0, 'masuk': 0, 'susun': 0, 'tpad': 0, 'sekretaris': 0, 'daerah': 0, 'jabat': 0, 'dr': 0, 'struktur': 0, 'ketua': 0, 'tim': 0, 'sekkot': 0, 'itu': 0, 'pakai': 0, 'desember': 0, 'hitung': 0, '31': 0, '95': 0}, {'kota': 0, 'perintah': 0, 'habis': 0, 'defisit': 1, 'tutup': 0, '2015': 0, 'hasil': 0, 'sisa': 1, 'tara': 0, 'bayar': 0, 'silpa': 1, 'utang': 0, 'dana': 0, 'wajib': 0, 'guna': 0, 'anggar': 0, 'papar': 0, 'uang': 0, 'periksa': 0, 'bpk': 0, 'pemkot': 0, 'alami': 0, 'kaltara': 0, 'badan': 0, 'kantor': 0, '30': 0, 'kepala': 0, 'rp': 2, 'data': 0, '531': 0, 'utara': 0, '323': 0, 'milik': 0, '15': 0, 'iwan': 0, 'kalimantan': 0, '2013': 0, '2012': 0, 'rusmana': 0, 'ade': 0, 'miliar': 1, 'wakil': 0, '859': 0, '2014': 2, '325': 1, '27': 1, '205': 1, '89': 1, 'akibat': 1, 'kurang': 1, 'angka': 0, 'khairul': 0, 'masuk': 0, 'susun': 0, 'tpad': 0, 'sekretaris': 0, 'daerah': 0, 'jabat': 0, 'dr': 0, 'struktur': 0, 'ketua': 0, 'tim': 0, 'sekkot': 0, 'itu': 0, 'pakai': 0, 'desember': 0, 'hitung': 0, '31': 0, '95': 0}, {'kota': 0, 'perintah': 0, 'habis': 0, 'defisit': 0, 'tutup': 0, '2015': 0, 'hasil': 0, 'sisa': 0, 'tara': 0, 'bayar': 0, 'silpa': 1, 'utang': 0, 'dana': 0, 'wajib': 0, 'guna': 0, 'anggar': 0, 'papar': 0, 'uang': 0, 'periksa': 0, 'bpk': 0, 'pemkot': 0, 'alami': 0, 'kaltara': 0, 'badan': 0, 'kantor': 0, '30': 0, 'kepala': 0, 'rp': 0, 'data': 0, '531': 0, 'utara': 0, '323': 0, 'milik': 0, '15': 0, 'iwan': 0, 'kalimantan': 0, '2013': 0, '2012': 0, 'rusmana': 0, 'ade': 0, 'miliar': 0, 'wakil': 0, '859': 0, '2014': 0, '325': 0, '27': 0, '205': 0, '89': 0, 'akibat': 0, 'kurang': 0, 'angka': 1, 'khairul': 0, 'masuk': 0, 'susun': 0, 'tpad': 0, 'sekretaris': 0, 'daerah': 0, 'jabat': 0, 'dr': 0, 'struktur': 0, 'ketua': 0, 'tim': 0, 'sekkot': 0, 'itu': 0, 'pakai': 0, 'desember': 0, 'hitung': 0, '31': 0, '95': 0}, {'kota': 1, 'perintah': 0, 'habis': 1, 'defisit': 0, 'tutup': 0, '2015': 1, 'hasil': 0, 'sisa': 0, 'tara': 1, 'bayar': 0, 'silpa': 0, 'utang': 0, 'dana': 1, 'wajib': 0, 'guna': 0, 'anggar': 2, 'papar': 0, 'uang': 0, 'periksa': 0, 'bpk': 0, 'pemkot': 0, 'alami': 0, 'kaltara': 0, 'badan': 0, 'kantor': 0, '30': 0, 'kepala': 0, 'rp': 1, 'data': 0, '531': 0, 'utara': 0, '323': 0, 'milik': 0, '15': 0, 'iwan': 0, 'kalimantan': 0, '2013': 0, '2012': 0, 'rusmana': 0, 'ade': 0, 'miliar': 1, 'wakil': 0, '859': 0, '2014': 0, '325': 0, '27': 1, '205': 1, '89': 0, 'akibat': 0, 'kurang': 0, 'angka': 0, 'khairul': 1, 'masuk': 1, 'susun': 1, 'tpad': 1, 'sekretaris': 1, 'daerah': 1, 'jabat': 1, 'dr': 1, 'struktur': 1, 'ketua': 1, 'tim': 1, 'sekkot': 1, 'itu': 0, 'pakai': 0, 'desember': 0, 'hitung': 0, '31': 0, '95': 0}, {'kota': 0, 'perintah': 0, 'habis': 0, 'defisit': 0, 'tutup': 0, '2015': 1, 'hasil': 0, 'sisa': 0, 'tara': 0, 'bayar': 0, 'silpa': 0, 'utang': 0, 'dana': 0, 'wajib': 0, 'guna': 0, 'anggar': 1, 'papar': 0, 'uang': 0, 'periksa': 0, 'bpk': 0, 'pemkot': 0, 'alami': 0, 'kaltara': 0, 'badan': 0, 'kantor': 0, '30': 0, 'kepala': 0, 'rp': 0, 'data': 0, '531': 0, 'utara': 0, '323': 0, 'milik': 0, '15': 0, 'iwan': 0, 'kalimantan': 0, '2013': 0, '2012': 0, 'rusmana': 0, 'ade': 0, 'miliar': 0, 'wakil': 0, '859': 0, '2014': 0, '325': 0, '27': 0, '205': 0, '89': 0, 'akibat': 0, 'kurang': 0, 'angka': 0, 'khairul': 0, 'masuk': 1, 'susun': 0, 'tpad': 0, 'sekretaris': 0, 'daerah': 0, 'jabat': 0, 'dr': 0, 'struktur': 0, 'ketua': 0, 'tim': 0, 'sekkot': 0, 'itu': 1, 'pakai': 0, 'desember': 0, 'hitung': 0, '31': 0, '95': 0}, {'kota': 0, 'perintah': 0, 'habis': 0, 'defisit': 0, 'tutup': 0, '2015': 0, 'hasil': 0, 'sisa': 0, 'tara': 0, 'bayar': 0, 'silpa': 0, 'utang': 0, 'dana': 0, 'wajib': 0, 'guna': 0, 'anggar': 0, 'papar': 0, 'uang': 0, 'periksa': 0, 'bpk': 0, 'pemkot': 0, 'alami': 0, 'kaltara': 0, 'badan': 0, 'kantor': 0, '30': 0, 'kepala': 0, 'rp': 0, 'data': 0, '531': 0, 'utara': 0, '323': 0, 'milik': 0, '15': 0, 'iwan': 0, 'kalimantan': 0, '2013': 0, '2012': 0, 'rusmana': 0, 'ade': 0, 'miliar': 0, 'wakil': 0, '859': 0, '2014': 0, '325': 0, '27': 0, '205': 0, '89': 0, 'akibat': 0, 'kurang': 0, 'angka': 0, 'khairul': 0, 'masuk': 0, 'susun': 0, 'tpad': 0, 'sekretaris': 0, 'daerah': 0, 'jabat': 0, 'dr': 0, 'struktur': 0, 'ketua': 0, 'tim': 0, 'sekkot': 0, 'itu': 0, 'pakai': 1, 'desember': 0, 'hitung': 0, '31': 0, '95': 0}, {'kota': 0, 'perintah': 0, 'habis': 0, 'defisit': 0, 'tutup': 0, '2015': 1, 'hasil': 0, 'sisa': 0, 'tara': 0, 'bayar': 1, 'silpa': 0, 'utang': 0, 'dana': 0, 'wajib': 1, 'guna': 0, 'anggar': 0, 'papar': 0, 'uang': 0, 'periksa': 0, 'bpk': 0, 'pemkot': 1, 'alami': 0, 'kaltara': 0, 'badan': 0, 'kantor': 0, '30': 0, 'kepala': 0, 'rp': 1, 'data': 0, '531': 0, 'utara': 0, '323': 0, 'milik': 1, '15': 0, 'iwan': 0, 'kalimantan': 0, '2013': 0, '2012': 0, 'rusmana': 0, 'ade': 0, 'miliar': 1, 'wakil': 0, '859': 0, '2014': 0, '325': 0, '27': 0, '205': 0, '89': 0, 'akibat': 0, 'kurang': 0, 'angka': 0, 'khairul': 0, 'masuk': 0, 'susun': 0, 'tpad': 0, 'sekretaris': 0, 'daerah': 0, 'jabat': 0, 'dr': 0, 'struktur': 0, 'ketua': 0, 'tim': 0, 'sekkot': 0, 'itu': 0, 'pakai': 0, 'desember': 1, 'hitung': 1, '31': 1, '95': 1}, {'kota': 0, 'perintah': 0, 'habis': 1, 'defisit': 1, 'tutup': 0, '2015': 0, 'hasil': 0, 'sisa': 1, 'tara': 0, 'bayar': 0, 'silpa': 0, 'utang': 0, 'dana': 1, 'wajib': 0, 'guna': 0, 'anggar': 0, 'papar': 0, 'uang': 0, 'periksa': 0, 'bpk': 0, 'pemkot': 0, 'alami': 0, 'kaltara': 0, 'badan': 0, 'kantor': 0, '30': 0, 'kepala': 0, 'rp': 0, 'data': 0, '531': 0, 'utara': 0, '323': 0, 'milik': 0, '15': 0, 'iwan': 0, 'kalimantan': 0, '2013': 0, '2012': 0, 'rusmana': 0, 'ade': 0, 'miliar': 0, 'wakil': 0, '859': 0, '2014': 0, '325': 0, '27': 0, '205': 0, '89': 0, 'akibat': 0, 'kurang': 0, 'angka': 0, 'khairul': 0, 'masuk': 0, 'susun': 0, 'tpad': 0, 'sekretaris': 0, 'daerah': 0, 'jabat': 0, 'dr': 0, 'struktur': 0, 'ketua': 0, 'tim': 0, 'sekkot': 0, 'itu': 0, 'pakai': 0, 'desember': 0, 'hitung': 0, '31': 0, '95': 0}]\n"
          ]
        }
      ]
    },
    {
      "cell_type": "code",
      "metadata": {
        "colab": {
          "base_uri": "https://localhost:8080/"
        },
        "id": "8hJX_VvWmfiW",
        "outputId": "9746664c-e5d2-4277-ff84-66853f1104d4"
      },
      "source": [
        "for i in range(10):\n",
        "   print(\"Dokumen \", i+1, \": \", count_rtf[i])\n",
        "\n",
        "print(\"Query \", \": \", count_rtf[10])"
      ],
      "execution_count": null,
      "outputs": [
        {
          "output_type": "stream",
          "name": "stdout",
          "text": [
            "Dokumen  1 :  {'kota': 1, 'perintah': 1, 'habis': 1, 'defisit': 1, 'tutup': 2, '2015': 1, 'hasil': 1, 'sisa': 1, 'tara': 1, 'bayar': 1, 'silpa': 1, 'utang': 1, 'dana': 1, 'wajib': 1, 'guna': 1, 'anggar': 2, 'papar': 0, 'uang': 0, 'periksa': 0, 'bpk': 0, 'pemkot': 0, 'alami': 0, 'kaltara': 0, 'badan': 0, 'kantor': 0, '30': 0, 'kepala': 0, 'rp': 0, 'data': 0, '531': 0, 'utara': 0, '323': 0, 'milik': 0, '15': 0, 'iwan': 0, 'kalimantan': 0, '2013': 0, '2012': 0, 'rusmana': 0, 'ade': 0, 'miliar': 0, 'wakil': 0, '859': 0, '2014': 0, '325': 0, '27': 0, '205': 0, '89': 0, 'akibat': 0, 'kurang': 0, 'angka': 0, 'khairul': 0, 'masuk': 0, 'susun': 0, 'tpad': 0, 'sekretaris': 0, 'daerah': 0, 'jabat': 0, 'dr': 0, 'struktur': 0, 'ketua': 0, 'tim': 0, 'sekkot': 0, 'itu': 0, 'pakai': 0, 'desember': 0, 'hitung': 0, '31': 0, '95': 0}\n",
            "Dokumen  2 :  {'kota': 0, 'perintah': 0, 'habis': 0, 'defisit': 1, 'tutup': 0, '2015': 0, 'hasil': 0, 'sisa': 0, 'tara': 1, 'bayar': 0, 'silpa': 0, 'utang': 0, 'dana': 0, 'wajib': 0, 'guna': 0, 'anggar': 1, 'papar': 1, 'uang': 1, 'periksa': 1, 'bpk': 1, 'pemkot': 1, 'alami': 1, 'kaltara': 1, 'badan': 1, 'kantor': 0, '30': 0, 'kepala': 0, 'rp': 0, 'data': 0, '531': 0, 'utara': 0, '323': 0, 'milik': 0, '15': 0, 'iwan': 0, 'kalimantan': 0, '2013': 0, '2012': 0, 'rusmana': 0, 'ade': 0, 'miliar': 0, 'wakil': 0, '859': 0, '2014': 0, '325': 0, '27': 0, '205': 0, '89': 0, 'akibat': 0, 'kurang': 0, 'angka': 0, 'khairul': 0, 'masuk': 0, 'susun': 0, 'tpad': 0, 'sekretaris': 0, 'daerah': 0, 'jabat': 0, 'dr': 0, 'struktur': 0, 'ketua': 0, 'tim': 0, 'sekkot': 0, 'itu': 0, 'pakai': 0, 'desember': 0, 'hitung': 0, '31': 0, '95': 0}\n",
            "Dokumen  3 :  {'kota': 0, 'perintah': 0, 'habis': 0, 'defisit': 0, 'tutup': 1, '2015': 0, 'hasil': 1, 'sisa': 0, 'tara': 0, 'bayar': 0, 'silpa': 1, 'utang': 0, 'dana': 0, 'wajib': 0, 'guna': 0, 'anggar': 0, 'papar': 0, 'uang': 0, 'periksa': 0, 'bpk': 0, 'pemkot': 0, 'alami': 0, 'kaltara': 0, 'badan': 0, 'kantor': 0, '30': 0, 'kepala': 0, 'rp': 0, 'data': 0, '531': 0, 'utara': 0, '323': 0, 'milik': 0, '15': 0, 'iwan': 0, 'kalimantan': 0, '2013': 0, '2012': 0, 'rusmana': 0, 'ade': 0, 'miliar': 0, 'wakil': 0, '859': 0, '2014': 0, '325': 0, '27': 0, '205': 0, '89': 0, 'akibat': 0, 'kurang': 0, 'angka': 0, 'khairul': 0, 'masuk': 0, 'susun': 0, 'tpad': 0, 'sekretaris': 0, 'daerah': 0, 'jabat': 0, 'dr': 0, 'struktur': 0, 'ketua': 0, 'tim': 0, 'sekkot': 0, 'itu': 0, 'pakai': 0, 'desember': 0, 'hitung': 0, '31': 0, '95': 0}\n",
            "Dokumen  4 :  {'kota': 0, 'perintah': 0, 'habis': 0, 'defisit': 1, 'tutup': 0, '2015': 0, 'hasil': 0, 'sisa': 1, 'tara': 1, 'bayar': 0, 'silpa': 1, 'utang': 0, 'dana': 1, 'wajib': 0, 'guna': 0, 'anggar': 0, 'papar': 1, 'uang': 0, 'periksa': 0, 'bpk': 1, 'pemkot': 1, 'alami': 0, 'kaltara': 1, 'badan': 0, 'kantor': 1, '30': 1, 'kepala': 1, 'rp': 3, 'data': 1, '531': 1, 'utara': 1, '323': 1, 'milik': 1, '15': 1, 'iwan': 1, 'kalimantan': 1, '2013': 1, '2012': 1, 'rusmana': 1, 'ade': 1, 'miliar': 3, 'wakil': 1, '859': 1, '2014': 0, '325': 0, '27': 0, '205': 0, '89': 0, 'akibat': 0, 'kurang': 0, 'angka': 0, 'khairul': 0, 'masuk': 0, 'susun': 0, 'tpad': 0, 'sekretaris': 0, 'daerah': 0, 'jabat': 0, 'dr': 0, 'struktur': 0, 'ketua': 0, 'tim': 0, 'sekkot': 0, 'itu': 0, 'pakai': 0, 'desember': 0, 'hitung': 0, '31': 0, '95': 0}\n",
            "Dokumen  5 :  {'kota': 0, 'perintah': 0, 'habis': 0, 'defisit': 1, 'tutup': 0, '2015': 0, 'hasil': 0, 'sisa': 1, 'tara': 0, 'bayar': 0, 'silpa': 1, 'utang': 0, 'dana': 0, 'wajib': 0, 'guna': 0, 'anggar': 0, 'papar': 0, 'uang': 0, 'periksa': 0, 'bpk': 0, 'pemkot': 0, 'alami': 0, 'kaltara': 0, 'badan': 0, 'kantor': 0, '30': 0, 'kepala': 0, 'rp': 2, 'data': 0, '531': 0, 'utara': 0, '323': 0, 'milik': 0, '15': 0, 'iwan': 0, 'kalimantan': 0, '2013': 0, '2012': 0, 'rusmana': 0, 'ade': 0, 'miliar': 1, 'wakil': 0, '859': 0, '2014': 2, '325': 1, '27': 1, '205': 1, '89': 1, 'akibat': 1, 'kurang': 1, 'angka': 0, 'khairul': 0, 'masuk': 0, 'susun': 0, 'tpad': 0, 'sekretaris': 0, 'daerah': 0, 'jabat': 0, 'dr': 0, 'struktur': 0, 'ketua': 0, 'tim': 0, 'sekkot': 0, 'itu': 0, 'pakai': 0, 'desember': 0, 'hitung': 0, '31': 0, '95': 0}\n",
            "Dokumen  6 :  {'kota': 0, 'perintah': 0, 'habis': 0, 'defisit': 0, 'tutup': 0, '2015': 0, 'hasil': 0, 'sisa': 0, 'tara': 0, 'bayar': 0, 'silpa': 1, 'utang': 0, 'dana': 0, 'wajib': 0, 'guna': 0, 'anggar': 0, 'papar': 0, 'uang': 0, 'periksa': 0, 'bpk': 0, 'pemkot': 0, 'alami': 0, 'kaltara': 0, 'badan': 0, 'kantor': 0, '30': 0, 'kepala': 0, 'rp': 0, 'data': 0, '531': 0, 'utara': 0, '323': 0, 'milik': 0, '15': 0, 'iwan': 0, 'kalimantan': 0, '2013': 0, '2012': 0, 'rusmana': 0, 'ade': 0, 'miliar': 0, 'wakil': 0, '859': 0, '2014': 0, '325': 0, '27': 0, '205': 0, '89': 0, 'akibat': 0, 'kurang': 0, 'angka': 1, 'khairul': 0, 'masuk': 0, 'susun': 0, 'tpad': 0, 'sekretaris': 0, 'daerah': 0, 'jabat': 0, 'dr': 0, 'struktur': 0, 'ketua': 0, 'tim': 0, 'sekkot': 0, 'itu': 0, 'pakai': 0, 'desember': 0, 'hitung': 0, '31': 0, '95': 0}\n",
            "Dokumen  7 :  {'kota': 1, 'perintah': 0, 'habis': 1, 'defisit': 0, 'tutup': 0, '2015': 1, 'hasil': 0, 'sisa': 0, 'tara': 1, 'bayar': 0, 'silpa': 0, 'utang': 0, 'dana': 1, 'wajib': 0, 'guna': 0, 'anggar': 2, 'papar': 0, 'uang': 0, 'periksa': 0, 'bpk': 0, 'pemkot': 0, 'alami': 0, 'kaltara': 0, 'badan': 0, 'kantor': 0, '30': 0, 'kepala': 0, 'rp': 1, 'data': 0, '531': 0, 'utara': 0, '323': 0, 'milik': 0, '15': 0, 'iwan': 0, 'kalimantan': 0, '2013': 0, '2012': 0, 'rusmana': 0, 'ade': 0, 'miliar': 1, 'wakil': 0, '859': 0, '2014': 0, '325': 0, '27': 1, '205': 1, '89': 0, 'akibat': 0, 'kurang': 0, 'angka': 0, 'khairul': 1, 'masuk': 1, 'susun': 1, 'tpad': 1, 'sekretaris': 1, 'daerah': 1, 'jabat': 1, 'dr': 1, 'struktur': 1, 'ketua': 1, 'tim': 1, 'sekkot': 1, 'itu': 0, 'pakai': 0, 'desember': 0, 'hitung': 0, '31': 0, '95': 0}\n",
            "Dokumen  8 :  {'kota': 0, 'perintah': 0, 'habis': 0, 'defisit': 0, 'tutup': 0, '2015': 1, 'hasil': 0, 'sisa': 0, 'tara': 0, 'bayar': 0, 'silpa': 0, 'utang': 0, 'dana': 0, 'wajib': 0, 'guna': 0, 'anggar': 1, 'papar': 0, 'uang': 0, 'periksa': 0, 'bpk': 0, 'pemkot': 0, 'alami': 0, 'kaltara': 0, 'badan': 0, 'kantor': 0, '30': 0, 'kepala': 0, 'rp': 0, 'data': 0, '531': 0, 'utara': 0, '323': 0, 'milik': 0, '15': 0, 'iwan': 0, 'kalimantan': 0, '2013': 0, '2012': 0, 'rusmana': 0, 'ade': 0, 'miliar': 0, 'wakil': 0, '859': 0, '2014': 0, '325': 0, '27': 0, '205': 0, '89': 0, 'akibat': 0, 'kurang': 0, 'angka': 0, 'khairul': 0, 'masuk': 1, 'susun': 0, 'tpad': 0, 'sekretaris': 0, 'daerah': 0, 'jabat': 0, 'dr': 0, 'struktur': 0, 'ketua': 0, 'tim': 0, 'sekkot': 0, 'itu': 1, 'pakai': 0, 'desember': 0, 'hitung': 0, '31': 0, '95': 0}\n",
            "Dokumen  9 :  {'kota': 0, 'perintah': 0, 'habis': 0, 'defisit': 0, 'tutup': 0, '2015': 0, 'hasil': 0, 'sisa': 0, 'tara': 0, 'bayar': 0, 'silpa': 0, 'utang': 0, 'dana': 0, 'wajib': 0, 'guna': 0, 'anggar': 0, 'papar': 0, 'uang': 0, 'periksa': 0, 'bpk': 0, 'pemkot': 0, 'alami': 0, 'kaltara': 0, 'badan': 0, 'kantor': 0, '30': 0, 'kepala': 0, 'rp': 0, 'data': 0, '531': 0, 'utara': 0, '323': 0, 'milik': 0, '15': 0, 'iwan': 0, 'kalimantan': 0, '2013': 0, '2012': 0, 'rusmana': 0, 'ade': 0, 'miliar': 0, 'wakil': 0, '859': 0, '2014': 0, '325': 0, '27': 0, '205': 0, '89': 0, 'akibat': 0, 'kurang': 0, 'angka': 0, 'khairul': 0, 'masuk': 0, 'susun': 0, 'tpad': 0, 'sekretaris': 0, 'daerah': 0, 'jabat': 0, 'dr': 0, 'struktur': 0, 'ketua': 0, 'tim': 0, 'sekkot': 0, 'itu': 0, 'pakai': 1, 'desember': 0, 'hitung': 0, '31': 0, '95': 0}\n",
            "Dokumen  10 :  {'kota': 0, 'perintah': 0, 'habis': 0, 'defisit': 0, 'tutup': 0, '2015': 1, 'hasil': 0, 'sisa': 0, 'tara': 0, 'bayar': 1, 'silpa': 0, 'utang': 0, 'dana': 0, 'wajib': 1, 'guna': 0, 'anggar': 0, 'papar': 0, 'uang': 0, 'periksa': 0, 'bpk': 0, 'pemkot': 1, 'alami': 0, 'kaltara': 0, 'badan': 0, 'kantor': 0, '30': 0, 'kepala': 0, 'rp': 1, 'data': 0, '531': 0, 'utara': 0, '323': 0, 'milik': 1, '15': 0, 'iwan': 0, 'kalimantan': 0, '2013': 0, '2012': 0, 'rusmana': 0, 'ade': 0, 'miliar': 1, 'wakil': 0, '859': 0, '2014': 0, '325': 0, '27': 0, '205': 0, '89': 0, 'akibat': 0, 'kurang': 0, 'angka': 0, 'khairul': 0, 'masuk': 0, 'susun': 0, 'tpad': 0, 'sekretaris': 0, 'daerah': 0, 'jabat': 0, 'dr': 0, 'struktur': 0, 'ketua': 0, 'tim': 0, 'sekkot': 0, 'itu': 0, 'pakai': 0, 'desember': 1, 'hitung': 1, '31': 1, '95': 1}\n",
            "Query  :  {'kota': 0, 'perintah': 0, 'habis': 1, 'defisit': 1, 'tutup': 0, '2015': 0, 'hasil': 0, 'sisa': 1, 'tara': 0, 'bayar': 0, 'silpa': 0, 'utang': 0, 'dana': 1, 'wajib': 0, 'guna': 0, 'anggar': 0, 'papar': 0, 'uang': 0, 'periksa': 0, 'bpk': 0, 'pemkot': 0, 'alami': 0, 'kaltara': 0, 'badan': 0, 'kantor': 0, '30': 0, 'kepala': 0, 'rp': 0, 'data': 0, '531': 0, 'utara': 0, '323': 0, 'milik': 0, '15': 0, 'iwan': 0, 'kalimantan': 0, '2013': 0, '2012': 0, 'rusmana': 0, 'ade': 0, 'miliar': 0, 'wakil': 0, '859': 0, '2014': 0, '325': 0, '27': 0, '205': 0, '89': 0, 'akibat': 0, 'kurang': 0, 'angka': 0, 'khairul': 0, 'masuk': 0, 'susun': 0, 'tpad': 0, 'sekretaris': 0, 'daerah': 0, 'jabat': 0, 'dr': 0, 'struktur': 0, 'ketua': 0, 'tim': 0, 'sekkot': 0, 'itu': 0, 'pakai': 0, 'desember': 0, 'hitung': 0, '31': 0, '95': 0}\n"
          ]
        }
      ]
    },
    {
      "cell_type": "code",
      "source": [
        "#Log Weighting Frequency"
      ],
      "metadata": {
        "id": "AVur1thKEYgd"
      },
      "execution_count": null,
      "outputs": []
    },
    {
      "cell_type": "code",
      "metadata": {
        "id": "qna-XTYiZ6Hv"
      },
      "source": [
        "import math"
      ],
      "execution_count": null,
      "outputs": []
    },
    {
      "cell_type": "code",
      "source": [
        "for i in range(11):\n",
        "  for j in term:\n",
        "    if count_rtf[i][f'{j}'] > 0:\n",
        "      count_rtf[i][f'{j}'] = float(1 + math.log10(count_rtf[i][f'{j}']))\n",
        "    else:\n",
        "      count_rtf[i][f'{j}'] = 0.0\n",
        "\n",
        "print(count_rtf)"
      ],
      "metadata": {
        "colab": {
          "base_uri": "https://localhost:8080/"
        },
        "id": "8UcWOkgNjZHa",
        "outputId": "d17665e4-ee0f-4ee4-955a-12555b3085d6"
      },
      "execution_count": null,
      "outputs": [
        {
          "output_type": "stream",
          "name": "stdout",
          "text": [
            "[{'kota': 1.0, 'perintah': 1.0, 'habis': 1.0, 'defisit': 1.0, 'tutup': 1.3010299956639813, '2015': 1.0, 'hasil': 1.0, 'sisa': 1.0, 'tara': 1.0, 'bayar': 1.0, 'silpa': 1.0, 'utang': 1.0, 'dana': 1.0, 'wajib': 1.0, 'guna': 1.0, 'anggar': 1.3010299956639813, 'papar': 0.0, 'uang': 0.0, 'periksa': 0.0, 'bpk': 0.0, 'pemkot': 0.0, 'alami': 0.0, 'kaltara': 0.0, 'badan': 0.0, 'kantor': 0.0, '30': 0.0, 'kepala': 0.0, 'rp': 0.0, 'data': 0.0, '531': 0.0, 'utara': 0.0, '323': 0.0, 'milik': 0.0, '15': 0.0, 'iwan': 0.0, 'kalimantan': 0.0, '2013': 0.0, '2012': 0.0, 'rusmana': 0.0, 'ade': 0.0, 'miliar': 0.0, 'wakil': 0.0, '859': 0.0, '2014': 0.0, '325': 0.0, '27': 0.0, '205': 0.0, '89': 0.0, 'akibat': 0.0, 'kurang': 0.0, 'angka': 0.0, 'khairul': 0.0, 'masuk': 0.0, 'susun': 0.0, 'tpad': 0.0, 'sekretaris': 0.0, 'daerah': 0.0, 'jabat': 0.0, 'dr': 0.0, 'struktur': 0.0, 'ketua': 0.0, 'tim': 0.0, 'sekkot': 0.0, 'itu': 0.0, 'pakai': 0.0, 'desember': 0.0, 'hitung': 0.0, '31': 0.0, '95': 0.0}, {'kota': 0.0, 'perintah': 0.0, 'habis': 0.0, 'defisit': 1.0, 'tutup': 0.0, '2015': 0.0, 'hasil': 0.0, 'sisa': 0.0, 'tara': 1.0, 'bayar': 0.0, 'silpa': 0.0, 'utang': 0.0, 'dana': 0.0, 'wajib': 0.0, 'guna': 0.0, 'anggar': 1.0, 'papar': 1.0, 'uang': 1.0, 'periksa': 1.0, 'bpk': 1.0, 'pemkot': 1.0, 'alami': 1.0, 'kaltara': 1.0, 'badan': 1.0, 'kantor': 0.0, '30': 0.0, 'kepala': 0.0, 'rp': 0.0, 'data': 0.0, '531': 0.0, 'utara': 0.0, '323': 0.0, 'milik': 0.0, '15': 0.0, 'iwan': 0.0, 'kalimantan': 0.0, '2013': 0.0, '2012': 0.0, 'rusmana': 0.0, 'ade': 0.0, 'miliar': 0.0, 'wakil': 0.0, '859': 0.0, '2014': 0.0, '325': 0.0, '27': 0.0, '205': 0.0, '89': 0.0, 'akibat': 0.0, 'kurang': 0.0, 'angka': 0.0, 'khairul': 0.0, 'masuk': 0.0, 'susun': 0.0, 'tpad': 0.0, 'sekretaris': 0.0, 'daerah': 0.0, 'jabat': 0.0, 'dr': 0.0, 'struktur': 0.0, 'ketua': 0.0, 'tim': 0.0, 'sekkot': 0.0, 'itu': 0.0, 'pakai': 0.0, 'desember': 0.0, 'hitung': 0.0, '31': 0.0, '95': 0.0}, {'kota': 0.0, 'perintah': 0.0, 'habis': 0.0, 'defisit': 0.0, 'tutup': 1.0, '2015': 0.0, 'hasil': 1.0, 'sisa': 0.0, 'tara': 0.0, 'bayar': 0.0, 'silpa': 1.0, 'utang': 0.0, 'dana': 0.0, 'wajib': 0.0, 'guna': 0.0, 'anggar': 0.0, 'papar': 0.0, 'uang': 0.0, 'periksa': 0.0, 'bpk': 0.0, 'pemkot': 0.0, 'alami': 0.0, 'kaltara': 0.0, 'badan': 0.0, 'kantor': 0.0, '30': 0.0, 'kepala': 0.0, 'rp': 0.0, 'data': 0.0, '531': 0.0, 'utara': 0.0, '323': 0.0, 'milik': 0.0, '15': 0.0, 'iwan': 0.0, 'kalimantan': 0.0, '2013': 0.0, '2012': 0.0, 'rusmana': 0.0, 'ade': 0.0, 'miliar': 0.0, 'wakil': 0.0, '859': 0.0, '2014': 0.0, '325': 0.0, '27': 0.0, '205': 0.0, '89': 0.0, 'akibat': 0.0, 'kurang': 0.0, 'angka': 0.0, 'khairul': 0.0, 'masuk': 0.0, 'susun': 0.0, 'tpad': 0.0, 'sekretaris': 0.0, 'daerah': 0.0, 'jabat': 0.0, 'dr': 0.0, 'struktur': 0.0, 'ketua': 0.0, 'tim': 0.0, 'sekkot': 0.0, 'itu': 0.0, 'pakai': 0.0, 'desember': 0.0, 'hitung': 0.0, '31': 0.0, '95': 0.0}, {'kota': 0.0, 'perintah': 0.0, 'habis': 0.0, 'defisit': 1.0, 'tutup': 0.0, '2015': 0.0, 'hasil': 0.0, 'sisa': 1.0, 'tara': 1.0, 'bayar': 0.0, 'silpa': 1.0, 'utang': 0.0, 'dana': 1.0, 'wajib': 0.0, 'guna': 0.0, 'anggar': 0.0, 'papar': 1.0, 'uang': 0.0, 'periksa': 0.0, 'bpk': 1.0, 'pemkot': 1.0, 'alami': 0.0, 'kaltara': 1.0, 'badan': 0.0, 'kantor': 1.0, '30': 1.0, 'kepala': 1.0, 'rp': 1.4771212547196624, 'data': 1.0, '531': 1.0, 'utara': 1.0, '323': 1.0, 'milik': 1.0, '15': 1.0, 'iwan': 1.0, 'kalimantan': 1.0, '2013': 1.0, '2012': 1.0, 'rusmana': 1.0, 'ade': 1.0, 'miliar': 1.4771212547196624, 'wakil': 1.0, '859': 1.0, '2014': 0.0, '325': 0.0, '27': 0.0, '205': 0.0, '89': 0.0, 'akibat': 0.0, 'kurang': 0.0, 'angka': 0.0, 'khairul': 0.0, 'masuk': 0.0, 'susun': 0.0, 'tpad': 0.0, 'sekretaris': 0.0, 'daerah': 0.0, 'jabat': 0.0, 'dr': 0.0, 'struktur': 0.0, 'ketua': 0.0, 'tim': 0.0, 'sekkot': 0.0, 'itu': 0.0, 'pakai': 0.0, 'desember': 0.0, 'hitung': 0.0, '31': 0.0, '95': 0.0}, {'kota': 0.0, 'perintah': 0.0, 'habis': 0.0, 'defisit': 1.0, 'tutup': 0.0, '2015': 0.0, 'hasil': 0.0, 'sisa': 1.0, 'tara': 0.0, 'bayar': 0.0, 'silpa': 1.0, 'utang': 0.0, 'dana': 0.0, 'wajib': 0.0, 'guna': 0.0, 'anggar': 0.0, 'papar': 0.0, 'uang': 0.0, 'periksa': 0.0, 'bpk': 0.0, 'pemkot': 0.0, 'alami': 0.0, 'kaltara': 0.0, 'badan': 0.0, 'kantor': 0.0, '30': 0.0, 'kepala': 0.0, 'rp': 1.3010299956639813, 'data': 0.0, '531': 0.0, 'utara': 0.0, '323': 0.0, 'milik': 0.0, '15': 0.0, 'iwan': 0.0, 'kalimantan': 0.0, '2013': 0.0, '2012': 0.0, 'rusmana': 0.0, 'ade': 0.0, 'miliar': 1.0, 'wakil': 0.0, '859': 0.0, '2014': 1.3010299956639813, '325': 1.0, '27': 1.0, '205': 1.0, '89': 1.0, 'akibat': 1.0, 'kurang': 1.0, 'angka': 0.0, 'khairul': 0.0, 'masuk': 0.0, 'susun': 0.0, 'tpad': 0.0, 'sekretaris': 0.0, 'daerah': 0.0, 'jabat': 0.0, 'dr': 0.0, 'struktur': 0.0, 'ketua': 0.0, 'tim': 0.0, 'sekkot': 0.0, 'itu': 0.0, 'pakai': 0.0, 'desember': 0.0, 'hitung': 0.0, '31': 0.0, '95': 0.0}, {'kota': 0.0, 'perintah': 0.0, 'habis': 0.0, 'defisit': 0.0, 'tutup': 0.0, '2015': 0.0, 'hasil': 0.0, 'sisa': 0.0, 'tara': 0.0, 'bayar': 0.0, 'silpa': 1.0, 'utang': 0.0, 'dana': 0.0, 'wajib': 0.0, 'guna': 0.0, 'anggar': 0.0, 'papar': 0.0, 'uang': 0.0, 'periksa': 0.0, 'bpk': 0.0, 'pemkot': 0.0, 'alami': 0.0, 'kaltara': 0.0, 'badan': 0.0, 'kantor': 0.0, '30': 0.0, 'kepala': 0.0, 'rp': 0.0, 'data': 0.0, '531': 0.0, 'utara': 0.0, '323': 0.0, 'milik': 0.0, '15': 0.0, 'iwan': 0.0, 'kalimantan': 0.0, '2013': 0.0, '2012': 0.0, 'rusmana': 0.0, 'ade': 0.0, 'miliar': 0.0, 'wakil': 0.0, '859': 0.0, '2014': 0.0, '325': 0.0, '27': 0.0, '205': 0.0, '89': 0.0, 'akibat': 0.0, 'kurang': 0.0, 'angka': 1.0, 'khairul': 0.0, 'masuk': 0.0, 'susun': 0.0, 'tpad': 0.0, 'sekretaris': 0.0, 'daerah': 0.0, 'jabat': 0.0, 'dr': 0.0, 'struktur': 0.0, 'ketua': 0.0, 'tim': 0.0, 'sekkot': 0.0, 'itu': 0.0, 'pakai': 0.0, 'desember': 0.0, 'hitung': 0.0, '31': 0.0, '95': 0.0}, {'kota': 1.0, 'perintah': 0.0, 'habis': 1.0, 'defisit': 0.0, 'tutup': 0.0, '2015': 1.0, 'hasil': 0.0, 'sisa': 0.0, 'tara': 1.0, 'bayar': 0.0, 'silpa': 0.0, 'utang': 0.0, 'dana': 1.0, 'wajib': 0.0, 'guna': 0.0, 'anggar': 1.3010299956639813, 'papar': 0.0, 'uang': 0.0, 'periksa': 0.0, 'bpk': 0.0, 'pemkot': 0.0, 'alami': 0.0, 'kaltara': 0.0, 'badan': 0.0, 'kantor': 0.0, '30': 0.0, 'kepala': 0.0, 'rp': 1.0, 'data': 0.0, '531': 0.0, 'utara': 0.0, '323': 0.0, 'milik': 0.0, '15': 0.0, 'iwan': 0.0, 'kalimantan': 0.0, '2013': 0.0, '2012': 0.0, 'rusmana': 0.0, 'ade': 0.0, 'miliar': 1.0, 'wakil': 0.0, '859': 0.0, '2014': 0.0, '325': 0.0, '27': 1.0, '205': 1.0, '89': 0.0, 'akibat': 0.0, 'kurang': 0.0, 'angka': 0.0, 'khairul': 1.0, 'masuk': 1.0, 'susun': 1.0, 'tpad': 1.0, 'sekretaris': 1.0, 'daerah': 1.0, 'jabat': 1.0, 'dr': 1.0, 'struktur': 1.0, 'ketua': 1.0, 'tim': 1.0, 'sekkot': 1.0, 'itu': 0.0, 'pakai': 0.0, 'desember': 0.0, 'hitung': 0.0, '31': 0.0, '95': 0.0}, {'kota': 0.0, 'perintah': 0.0, 'habis': 0.0, 'defisit': 0.0, 'tutup': 0.0, '2015': 1.0, 'hasil': 0.0, 'sisa': 0.0, 'tara': 0.0, 'bayar': 0.0, 'silpa': 0.0, 'utang': 0.0, 'dana': 0.0, 'wajib': 0.0, 'guna': 0.0, 'anggar': 1.0, 'papar': 0.0, 'uang': 0.0, 'periksa': 0.0, 'bpk': 0.0, 'pemkot': 0.0, 'alami': 0.0, 'kaltara': 0.0, 'badan': 0.0, 'kantor': 0.0, '30': 0.0, 'kepala': 0.0, 'rp': 0.0, 'data': 0.0, '531': 0.0, 'utara': 0.0, '323': 0.0, 'milik': 0.0, '15': 0.0, 'iwan': 0.0, 'kalimantan': 0.0, '2013': 0.0, '2012': 0.0, 'rusmana': 0.0, 'ade': 0.0, 'miliar': 0.0, 'wakil': 0.0, '859': 0.0, '2014': 0.0, '325': 0.0, '27': 0.0, '205': 0.0, '89': 0.0, 'akibat': 0.0, 'kurang': 0.0, 'angka': 0.0, 'khairul': 0.0, 'masuk': 1.0, 'susun': 0.0, 'tpad': 0.0, 'sekretaris': 0.0, 'daerah': 0.0, 'jabat': 0.0, 'dr': 0.0, 'struktur': 0.0, 'ketua': 0.0, 'tim': 0.0, 'sekkot': 0.0, 'itu': 1.0, 'pakai': 0.0, 'desember': 0.0, 'hitung': 0.0, '31': 0.0, '95': 0.0}, {'kota': 0.0, 'perintah': 0.0, 'habis': 0.0, 'defisit': 0.0, 'tutup': 0.0, '2015': 0.0, 'hasil': 0.0, 'sisa': 0.0, 'tara': 0.0, 'bayar': 0.0, 'silpa': 0.0, 'utang': 0.0, 'dana': 0.0, 'wajib': 0.0, 'guna': 0.0, 'anggar': 0.0, 'papar': 0.0, 'uang': 0.0, 'periksa': 0.0, 'bpk': 0.0, 'pemkot': 0.0, 'alami': 0.0, 'kaltara': 0.0, 'badan': 0.0, 'kantor': 0.0, '30': 0.0, 'kepala': 0.0, 'rp': 0.0, 'data': 0.0, '531': 0.0, 'utara': 0.0, '323': 0.0, 'milik': 0.0, '15': 0.0, 'iwan': 0.0, 'kalimantan': 0.0, '2013': 0.0, '2012': 0.0, 'rusmana': 0.0, 'ade': 0.0, 'miliar': 0.0, 'wakil': 0.0, '859': 0.0, '2014': 0.0, '325': 0.0, '27': 0.0, '205': 0.0, '89': 0.0, 'akibat': 0.0, 'kurang': 0.0, 'angka': 0.0, 'khairul': 0.0, 'masuk': 0.0, 'susun': 0.0, 'tpad': 0.0, 'sekretaris': 0.0, 'daerah': 0.0, 'jabat': 0.0, 'dr': 0.0, 'struktur': 0.0, 'ketua': 0.0, 'tim': 0.0, 'sekkot': 0.0, 'itu': 0.0, 'pakai': 1.0, 'desember': 0.0, 'hitung': 0.0, '31': 0.0, '95': 0.0}, {'kota': 0.0, 'perintah': 0.0, 'habis': 0.0, 'defisit': 0.0, 'tutup': 0.0, '2015': 1.0, 'hasil': 0.0, 'sisa': 0.0, 'tara': 0.0, 'bayar': 1.0, 'silpa': 0.0, 'utang': 0.0, 'dana': 0.0, 'wajib': 1.0, 'guna': 0.0, 'anggar': 0.0, 'papar': 0.0, 'uang': 0.0, 'periksa': 0.0, 'bpk': 0.0, 'pemkot': 1.0, 'alami': 0.0, 'kaltara': 0.0, 'badan': 0.0, 'kantor': 0.0, '30': 0.0, 'kepala': 0.0, 'rp': 1.0, 'data': 0.0, '531': 0.0, 'utara': 0.0, '323': 0.0, 'milik': 1.0, '15': 0.0, 'iwan': 0.0, 'kalimantan': 0.0, '2013': 0.0, '2012': 0.0, 'rusmana': 0.0, 'ade': 0.0, 'miliar': 1.0, 'wakil': 0.0, '859': 0.0, '2014': 0.0, '325': 0.0, '27': 0.0, '205': 0.0, '89': 0.0, 'akibat': 0.0, 'kurang': 0.0, 'angka': 0.0, 'khairul': 0.0, 'masuk': 0.0, 'susun': 0.0, 'tpad': 0.0, 'sekretaris': 0.0, 'daerah': 0.0, 'jabat': 0.0, 'dr': 0.0, 'struktur': 0.0, 'ketua': 0.0, 'tim': 0.0, 'sekkot': 0.0, 'itu': 0.0, 'pakai': 0.0, 'desember': 1.0, 'hitung': 1.0, '31': 1.0, '95': 1.0}, {'kota': 0.0, 'perintah': 0.0, 'habis': 1.0, 'defisit': 1.0, 'tutup': 0.0, '2015': 0.0, 'hasil': 0.0, 'sisa': 1.0, 'tara': 0.0, 'bayar': 0.0, 'silpa': 0.0, 'utang': 0.0, 'dana': 1.0, 'wajib': 0.0, 'guna': 0.0, 'anggar': 0.0, 'papar': 0.0, 'uang': 0.0, 'periksa': 0.0, 'bpk': 0.0, 'pemkot': 0.0, 'alami': 0.0, 'kaltara': 0.0, 'badan': 0.0, 'kantor': 0.0, '30': 0.0, 'kepala': 0.0, 'rp': 0.0, 'data': 0.0, '531': 0.0, 'utara': 0.0, '323': 0.0, 'milik': 0.0, '15': 0.0, 'iwan': 0.0, 'kalimantan': 0.0, '2013': 0.0, '2012': 0.0, 'rusmana': 0.0, 'ade': 0.0, 'miliar': 0.0, 'wakil': 0.0, '859': 0.0, '2014': 0.0, '325': 0.0, '27': 0.0, '205': 0.0, '89': 0.0, 'akibat': 0.0, 'kurang': 0.0, 'angka': 0.0, 'khairul': 0.0, 'masuk': 0.0, 'susun': 0.0, 'tpad': 0.0, 'sekretaris': 0.0, 'daerah': 0.0, 'jabat': 0.0, 'dr': 0.0, 'struktur': 0.0, 'ketua': 0.0, 'tim': 0.0, 'sekkot': 0.0, 'itu': 0.0, 'pakai': 0.0, 'desember': 0.0, 'hitung': 0.0, '31': 0.0, '95': 0.0}]\n"
          ]
        }
      ]
    },
    {
      "cell_type": "code",
      "metadata": {
        "colab": {
          "base_uri": "https://localhost:8080/"
        },
        "id": "igxV94V5Z6MT",
        "outputId": "8db0ac39-0a63-4c1c-ad05-571cf7184d1c"
      },
      "source": [
        "for i in range(10):\n",
        "   print(\"Dokumen \", i+1, \": \", count_rtf[i])\n",
        "\n",
        "print(\"Query \", \": \", count_rtf[10])"
      ],
      "execution_count": null,
      "outputs": [
        {
          "output_type": "stream",
          "name": "stdout",
          "text": [
            "Dokumen  1 :  {'kota': 1.0, 'perintah': 1.0, 'habis': 1.0, 'defisit': 1.0, 'tutup': 1.3010299956639813, '2015': 1.0, 'hasil': 1.0, 'sisa': 1.0, 'tara': 1.0, 'bayar': 1.0, 'silpa': 1.0, 'utang': 1.0, 'dana': 1.0, 'wajib': 1.0, 'guna': 1.0, 'anggar': 1.3010299956639813, 'papar': 0.0, 'uang': 0.0, 'periksa': 0.0, 'bpk': 0.0, 'pemkot': 0.0, 'alami': 0.0, 'kaltara': 0.0, 'badan': 0.0, 'kantor': 0.0, '30': 0.0, 'kepala': 0.0, 'rp': 0.0, 'data': 0.0, '531': 0.0, 'utara': 0.0, '323': 0.0, 'milik': 0.0, '15': 0.0, 'iwan': 0.0, 'kalimantan': 0.0, '2013': 0.0, '2012': 0.0, 'rusmana': 0.0, 'ade': 0.0, 'miliar': 0.0, 'wakil': 0.0, '859': 0.0, '2014': 0.0, '325': 0.0, '27': 0.0, '205': 0.0, '89': 0.0, 'akibat': 0.0, 'kurang': 0.0, 'angka': 0.0, 'khairul': 0.0, 'masuk': 0.0, 'susun': 0.0, 'tpad': 0.0, 'sekretaris': 0.0, 'daerah': 0.0, 'jabat': 0.0, 'dr': 0.0, 'struktur': 0.0, 'ketua': 0.0, 'tim': 0.0, 'sekkot': 0.0, 'itu': 0.0, 'pakai': 0.0, 'desember': 0.0, 'hitung': 0.0, '31': 0.0, '95': 0.0}\n",
            "Dokumen  2 :  {'kota': 0.0, 'perintah': 0.0, 'habis': 0.0, 'defisit': 1.0, 'tutup': 0.0, '2015': 0.0, 'hasil': 0.0, 'sisa': 0.0, 'tara': 1.0, 'bayar': 0.0, 'silpa': 0.0, 'utang': 0.0, 'dana': 0.0, 'wajib': 0.0, 'guna': 0.0, 'anggar': 1.0, 'papar': 1.0, 'uang': 1.0, 'periksa': 1.0, 'bpk': 1.0, 'pemkot': 1.0, 'alami': 1.0, 'kaltara': 1.0, 'badan': 1.0, 'kantor': 0.0, '30': 0.0, 'kepala': 0.0, 'rp': 0.0, 'data': 0.0, '531': 0.0, 'utara': 0.0, '323': 0.0, 'milik': 0.0, '15': 0.0, 'iwan': 0.0, 'kalimantan': 0.0, '2013': 0.0, '2012': 0.0, 'rusmana': 0.0, 'ade': 0.0, 'miliar': 0.0, 'wakil': 0.0, '859': 0.0, '2014': 0.0, '325': 0.0, '27': 0.0, '205': 0.0, '89': 0.0, 'akibat': 0.0, 'kurang': 0.0, 'angka': 0.0, 'khairul': 0.0, 'masuk': 0.0, 'susun': 0.0, 'tpad': 0.0, 'sekretaris': 0.0, 'daerah': 0.0, 'jabat': 0.0, 'dr': 0.0, 'struktur': 0.0, 'ketua': 0.0, 'tim': 0.0, 'sekkot': 0.0, 'itu': 0.0, 'pakai': 0.0, 'desember': 0.0, 'hitung': 0.0, '31': 0.0, '95': 0.0}\n",
            "Dokumen  3 :  {'kota': 0.0, 'perintah': 0.0, 'habis': 0.0, 'defisit': 0.0, 'tutup': 1.0, '2015': 0.0, 'hasil': 1.0, 'sisa': 0.0, 'tara': 0.0, 'bayar': 0.0, 'silpa': 1.0, 'utang': 0.0, 'dana': 0.0, 'wajib': 0.0, 'guna': 0.0, 'anggar': 0.0, 'papar': 0.0, 'uang': 0.0, 'periksa': 0.0, 'bpk': 0.0, 'pemkot': 0.0, 'alami': 0.0, 'kaltara': 0.0, 'badan': 0.0, 'kantor': 0.0, '30': 0.0, 'kepala': 0.0, 'rp': 0.0, 'data': 0.0, '531': 0.0, 'utara': 0.0, '323': 0.0, 'milik': 0.0, '15': 0.0, 'iwan': 0.0, 'kalimantan': 0.0, '2013': 0.0, '2012': 0.0, 'rusmana': 0.0, 'ade': 0.0, 'miliar': 0.0, 'wakil': 0.0, '859': 0.0, '2014': 0.0, '325': 0.0, '27': 0.0, '205': 0.0, '89': 0.0, 'akibat': 0.0, 'kurang': 0.0, 'angka': 0.0, 'khairul': 0.0, 'masuk': 0.0, 'susun': 0.0, 'tpad': 0.0, 'sekretaris': 0.0, 'daerah': 0.0, 'jabat': 0.0, 'dr': 0.0, 'struktur': 0.0, 'ketua': 0.0, 'tim': 0.0, 'sekkot': 0.0, 'itu': 0.0, 'pakai': 0.0, 'desember': 0.0, 'hitung': 0.0, '31': 0.0, '95': 0.0}\n",
            "Dokumen  4 :  {'kota': 0.0, 'perintah': 0.0, 'habis': 0.0, 'defisit': 1.0, 'tutup': 0.0, '2015': 0.0, 'hasil': 0.0, 'sisa': 1.0, 'tara': 1.0, 'bayar': 0.0, 'silpa': 1.0, 'utang': 0.0, 'dana': 1.0, 'wajib': 0.0, 'guna': 0.0, 'anggar': 0.0, 'papar': 1.0, 'uang': 0.0, 'periksa': 0.0, 'bpk': 1.0, 'pemkot': 1.0, 'alami': 0.0, 'kaltara': 1.0, 'badan': 0.0, 'kantor': 1.0, '30': 1.0, 'kepala': 1.0, 'rp': 1.4771212547196624, 'data': 1.0, '531': 1.0, 'utara': 1.0, '323': 1.0, 'milik': 1.0, '15': 1.0, 'iwan': 1.0, 'kalimantan': 1.0, '2013': 1.0, '2012': 1.0, 'rusmana': 1.0, 'ade': 1.0, 'miliar': 1.4771212547196624, 'wakil': 1.0, '859': 1.0, '2014': 0.0, '325': 0.0, '27': 0.0, '205': 0.0, '89': 0.0, 'akibat': 0.0, 'kurang': 0.0, 'angka': 0.0, 'khairul': 0.0, 'masuk': 0.0, 'susun': 0.0, 'tpad': 0.0, 'sekretaris': 0.0, 'daerah': 0.0, 'jabat': 0.0, 'dr': 0.0, 'struktur': 0.0, 'ketua': 0.0, 'tim': 0.0, 'sekkot': 0.0, 'itu': 0.0, 'pakai': 0.0, 'desember': 0.0, 'hitung': 0.0, '31': 0.0, '95': 0.0}\n",
            "Dokumen  5 :  {'kota': 0.0, 'perintah': 0.0, 'habis': 0.0, 'defisit': 1.0, 'tutup': 0.0, '2015': 0.0, 'hasil': 0.0, 'sisa': 1.0, 'tara': 0.0, 'bayar': 0.0, 'silpa': 1.0, 'utang': 0.0, 'dana': 0.0, 'wajib': 0.0, 'guna': 0.0, 'anggar': 0.0, 'papar': 0.0, 'uang': 0.0, 'periksa': 0.0, 'bpk': 0.0, 'pemkot': 0.0, 'alami': 0.0, 'kaltara': 0.0, 'badan': 0.0, 'kantor': 0.0, '30': 0.0, 'kepala': 0.0, 'rp': 1.3010299956639813, 'data': 0.0, '531': 0.0, 'utara': 0.0, '323': 0.0, 'milik': 0.0, '15': 0.0, 'iwan': 0.0, 'kalimantan': 0.0, '2013': 0.0, '2012': 0.0, 'rusmana': 0.0, 'ade': 0.0, 'miliar': 1.0, 'wakil': 0.0, '859': 0.0, '2014': 1.3010299956639813, '325': 1.0, '27': 1.0, '205': 1.0, '89': 1.0, 'akibat': 1.0, 'kurang': 1.0, 'angka': 0.0, 'khairul': 0.0, 'masuk': 0.0, 'susun': 0.0, 'tpad': 0.0, 'sekretaris': 0.0, 'daerah': 0.0, 'jabat': 0.0, 'dr': 0.0, 'struktur': 0.0, 'ketua': 0.0, 'tim': 0.0, 'sekkot': 0.0, 'itu': 0.0, 'pakai': 0.0, 'desember': 0.0, 'hitung': 0.0, '31': 0.0, '95': 0.0}\n",
            "Dokumen  6 :  {'kota': 0.0, 'perintah': 0.0, 'habis': 0.0, 'defisit': 0.0, 'tutup': 0.0, '2015': 0.0, 'hasil': 0.0, 'sisa': 0.0, 'tara': 0.0, 'bayar': 0.0, 'silpa': 1.0, 'utang': 0.0, 'dana': 0.0, 'wajib': 0.0, 'guna': 0.0, 'anggar': 0.0, 'papar': 0.0, 'uang': 0.0, 'periksa': 0.0, 'bpk': 0.0, 'pemkot': 0.0, 'alami': 0.0, 'kaltara': 0.0, 'badan': 0.0, 'kantor': 0.0, '30': 0.0, 'kepala': 0.0, 'rp': 0.0, 'data': 0.0, '531': 0.0, 'utara': 0.0, '323': 0.0, 'milik': 0.0, '15': 0.0, 'iwan': 0.0, 'kalimantan': 0.0, '2013': 0.0, '2012': 0.0, 'rusmana': 0.0, 'ade': 0.0, 'miliar': 0.0, 'wakil': 0.0, '859': 0.0, '2014': 0.0, '325': 0.0, '27': 0.0, '205': 0.0, '89': 0.0, 'akibat': 0.0, 'kurang': 0.0, 'angka': 1.0, 'khairul': 0.0, 'masuk': 0.0, 'susun': 0.0, 'tpad': 0.0, 'sekretaris': 0.0, 'daerah': 0.0, 'jabat': 0.0, 'dr': 0.0, 'struktur': 0.0, 'ketua': 0.0, 'tim': 0.0, 'sekkot': 0.0, 'itu': 0.0, 'pakai': 0.0, 'desember': 0.0, 'hitung': 0.0, '31': 0.0, '95': 0.0}\n",
            "Dokumen  7 :  {'kota': 1.0, 'perintah': 0.0, 'habis': 1.0, 'defisit': 0.0, 'tutup': 0.0, '2015': 1.0, 'hasil': 0.0, 'sisa': 0.0, 'tara': 1.0, 'bayar': 0.0, 'silpa': 0.0, 'utang': 0.0, 'dana': 1.0, 'wajib': 0.0, 'guna': 0.0, 'anggar': 1.3010299956639813, 'papar': 0.0, 'uang': 0.0, 'periksa': 0.0, 'bpk': 0.0, 'pemkot': 0.0, 'alami': 0.0, 'kaltara': 0.0, 'badan': 0.0, 'kantor': 0.0, '30': 0.0, 'kepala': 0.0, 'rp': 1.0, 'data': 0.0, '531': 0.0, 'utara': 0.0, '323': 0.0, 'milik': 0.0, '15': 0.0, 'iwan': 0.0, 'kalimantan': 0.0, '2013': 0.0, '2012': 0.0, 'rusmana': 0.0, 'ade': 0.0, 'miliar': 1.0, 'wakil': 0.0, '859': 0.0, '2014': 0.0, '325': 0.0, '27': 1.0, '205': 1.0, '89': 0.0, 'akibat': 0.0, 'kurang': 0.0, 'angka': 0.0, 'khairul': 1.0, 'masuk': 1.0, 'susun': 1.0, 'tpad': 1.0, 'sekretaris': 1.0, 'daerah': 1.0, 'jabat': 1.0, 'dr': 1.0, 'struktur': 1.0, 'ketua': 1.0, 'tim': 1.0, 'sekkot': 1.0, 'itu': 0.0, 'pakai': 0.0, 'desember': 0.0, 'hitung': 0.0, '31': 0.0, '95': 0.0}\n",
            "Dokumen  8 :  {'kota': 0.0, 'perintah': 0.0, 'habis': 0.0, 'defisit': 0.0, 'tutup': 0.0, '2015': 1.0, 'hasil': 0.0, 'sisa': 0.0, 'tara': 0.0, 'bayar': 0.0, 'silpa': 0.0, 'utang': 0.0, 'dana': 0.0, 'wajib': 0.0, 'guna': 0.0, 'anggar': 1.0, 'papar': 0.0, 'uang': 0.0, 'periksa': 0.0, 'bpk': 0.0, 'pemkot': 0.0, 'alami': 0.0, 'kaltara': 0.0, 'badan': 0.0, 'kantor': 0.0, '30': 0.0, 'kepala': 0.0, 'rp': 0.0, 'data': 0.0, '531': 0.0, 'utara': 0.0, '323': 0.0, 'milik': 0.0, '15': 0.0, 'iwan': 0.0, 'kalimantan': 0.0, '2013': 0.0, '2012': 0.0, 'rusmana': 0.0, 'ade': 0.0, 'miliar': 0.0, 'wakil': 0.0, '859': 0.0, '2014': 0.0, '325': 0.0, '27': 0.0, '205': 0.0, '89': 0.0, 'akibat': 0.0, 'kurang': 0.0, 'angka': 0.0, 'khairul': 0.0, 'masuk': 1.0, 'susun': 0.0, 'tpad': 0.0, 'sekretaris': 0.0, 'daerah': 0.0, 'jabat': 0.0, 'dr': 0.0, 'struktur': 0.0, 'ketua': 0.0, 'tim': 0.0, 'sekkot': 0.0, 'itu': 1.0, 'pakai': 0.0, 'desember': 0.0, 'hitung': 0.0, '31': 0.0, '95': 0.0}\n",
            "Dokumen  9 :  {'kota': 0.0, 'perintah': 0.0, 'habis': 0.0, 'defisit': 0.0, 'tutup': 0.0, '2015': 0.0, 'hasil': 0.0, 'sisa': 0.0, 'tara': 0.0, 'bayar': 0.0, 'silpa': 0.0, 'utang': 0.0, 'dana': 0.0, 'wajib': 0.0, 'guna': 0.0, 'anggar': 0.0, 'papar': 0.0, 'uang': 0.0, 'periksa': 0.0, 'bpk': 0.0, 'pemkot': 0.0, 'alami': 0.0, 'kaltara': 0.0, 'badan': 0.0, 'kantor': 0.0, '30': 0.0, 'kepala': 0.0, 'rp': 0.0, 'data': 0.0, '531': 0.0, 'utara': 0.0, '323': 0.0, 'milik': 0.0, '15': 0.0, 'iwan': 0.0, 'kalimantan': 0.0, '2013': 0.0, '2012': 0.0, 'rusmana': 0.0, 'ade': 0.0, 'miliar': 0.0, 'wakil': 0.0, '859': 0.0, '2014': 0.0, '325': 0.0, '27': 0.0, '205': 0.0, '89': 0.0, 'akibat': 0.0, 'kurang': 0.0, 'angka': 0.0, 'khairul': 0.0, 'masuk': 0.0, 'susun': 0.0, 'tpad': 0.0, 'sekretaris': 0.0, 'daerah': 0.0, 'jabat': 0.0, 'dr': 0.0, 'struktur': 0.0, 'ketua': 0.0, 'tim': 0.0, 'sekkot': 0.0, 'itu': 0.0, 'pakai': 1.0, 'desember': 0.0, 'hitung': 0.0, '31': 0.0, '95': 0.0}\n",
            "Dokumen  10 :  {'kota': 0.0, 'perintah': 0.0, 'habis': 0.0, 'defisit': 0.0, 'tutup': 0.0, '2015': 1.0, 'hasil': 0.0, 'sisa': 0.0, 'tara': 0.0, 'bayar': 1.0, 'silpa': 0.0, 'utang': 0.0, 'dana': 0.0, 'wajib': 1.0, 'guna': 0.0, 'anggar': 0.0, 'papar': 0.0, 'uang': 0.0, 'periksa': 0.0, 'bpk': 0.0, 'pemkot': 1.0, 'alami': 0.0, 'kaltara': 0.0, 'badan': 0.0, 'kantor': 0.0, '30': 0.0, 'kepala': 0.0, 'rp': 1.0, 'data': 0.0, '531': 0.0, 'utara': 0.0, '323': 0.0, 'milik': 1.0, '15': 0.0, 'iwan': 0.0, 'kalimantan': 0.0, '2013': 0.0, '2012': 0.0, 'rusmana': 0.0, 'ade': 0.0, 'miliar': 1.0, 'wakil': 0.0, '859': 0.0, '2014': 0.0, '325': 0.0, '27': 0.0, '205': 0.0, '89': 0.0, 'akibat': 0.0, 'kurang': 0.0, 'angka': 0.0, 'khairul': 0.0, 'masuk': 0.0, 'susun': 0.0, 'tpad': 0.0, 'sekretaris': 0.0, 'daerah': 0.0, 'jabat': 0.0, 'dr': 0.0, 'struktur': 0.0, 'ketua': 0.0, 'tim': 0.0, 'sekkot': 0.0, 'itu': 0.0, 'pakai': 0.0, 'desember': 1.0, 'hitung': 1.0, '31': 1.0, '95': 1.0}\n",
            "Query  :  {'kota': 0.0, 'perintah': 0.0, 'habis': 1.0, 'defisit': 1.0, 'tutup': 0.0, '2015': 0.0, 'hasil': 0.0, 'sisa': 1.0, 'tara': 0.0, 'bayar': 0.0, 'silpa': 0.0, 'utang': 0.0, 'dana': 1.0, 'wajib': 0.0, 'guna': 0.0, 'anggar': 0.0, 'papar': 0.0, 'uang': 0.0, 'periksa': 0.0, 'bpk': 0.0, 'pemkot': 0.0, 'alami': 0.0, 'kaltara': 0.0, 'badan': 0.0, 'kantor': 0.0, '30': 0.0, 'kepala': 0.0, 'rp': 0.0, 'data': 0.0, '531': 0.0, 'utara': 0.0, '323': 0.0, 'milik': 0.0, '15': 0.0, 'iwan': 0.0, 'kalimantan': 0.0, '2013': 0.0, '2012': 0.0, 'rusmana': 0.0, 'ade': 0.0, 'miliar': 0.0, 'wakil': 0.0, '859': 0.0, '2014': 0.0, '325': 0.0, '27': 0.0, '205': 0.0, '89': 0.0, 'akibat': 0.0, 'kurang': 0.0, 'angka': 0.0, 'khairul': 0.0, 'masuk': 0.0, 'susun': 0.0, 'tpad': 0.0, 'sekretaris': 0.0, 'daerah': 0.0, 'jabat': 0.0, 'dr': 0.0, 'struktur': 0.0, 'ketua': 0.0, 'tim': 0.0, 'sekkot': 0.0, 'itu': 0.0, 'pakai': 0.0, 'desember': 0.0, 'hitung': 0.0, '31': 0.0, '95': 0.0}\n"
          ]
        }
      ]
    },
    {
      "cell_type": "code",
      "source": [
        "#Normalization"
      ],
      "metadata": {
        "id": "-0_JxiCsEyng"
      },
      "execution_count": null,
      "outputs": []
    },
    {
      "cell_type": "code",
      "source": [
        "from sklearn import preprocessing"
      ],
      "metadata": {
        "id": "KF3AJpZ9mi9M"
      },
      "execution_count": null,
      "outputs": []
    },
    {
      "cell_type": "code",
      "source": [
        "normalized = []\n",
        "\n",
        "for i in range(11):\n",
        "  value = list(count_rtf[i].values())\n",
        "  val_norm = preprocessing.normalize([value])\n",
        "  normalized.append(val_norm)\n",
        "\n",
        "normalized"
      ],
      "metadata": {
        "colab": {
          "base_uri": "https://localhost:8080/"
        },
        "id": "qyvWq68QKJEa",
        "outputId": "d7c18491-f165-432b-cf1d-7b9d8bf2ac8e"
      },
      "execution_count": null,
      "outputs": [
        {
          "output_type": "execute_result",
          "data": {
            "text/plain": [
              "[array([[0.23983258, 0.23983258, 0.23983258, 0.23983258, 0.31202938,\n",
              "         0.23983258, 0.23983258, 0.23983258, 0.23983258, 0.23983258,\n",
              "         0.23983258, 0.23983258, 0.23983258, 0.23983258, 0.23983258,\n",
              "         0.31202938, 0.        , 0.        , 0.        , 0.        ,\n",
              "         0.        , 0.        , 0.        , 0.        , 0.        ,\n",
              "         0.        , 0.        , 0.        , 0.        , 0.        ,\n",
              "         0.        , 0.        , 0.        , 0.        , 0.        ,\n",
              "         0.        , 0.        , 0.        , 0.        , 0.        ,\n",
              "         0.        , 0.        , 0.        , 0.        , 0.        ,\n",
              "         0.        , 0.        , 0.        , 0.        , 0.        ,\n",
              "         0.        , 0.        , 0.        , 0.        , 0.        ,\n",
              "         0.        , 0.        , 0.        , 0.        , 0.        ,\n",
              "         0.        , 0.        , 0.        , 0.        , 0.        ,\n",
              "         0.        , 0.        , 0.        , 0.        ]]),\n",
              " array([[0.        , 0.        , 0.        , 0.30151134, 0.        ,\n",
              "         0.        , 0.        , 0.        , 0.30151134, 0.        ,\n",
              "         0.        , 0.        , 0.        , 0.        , 0.        ,\n",
              "         0.30151134, 0.30151134, 0.30151134, 0.30151134, 0.30151134,\n",
              "         0.30151134, 0.30151134, 0.30151134, 0.30151134, 0.        ,\n",
              "         0.        , 0.        , 0.        , 0.        , 0.        ,\n",
              "         0.        , 0.        , 0.        , 0.        , 0.        ,\n",
              "         0.        , 0.        , 0.        , 0.        , 0.        ,\n",
              "         0.        , 0.        , 0.        , 0.        , 0.        ,\n",
              "         0.        , 0.        , 0.        , 0.        , 0.        ,\n",
              "         0.        , 0.        , 0.        , 0.        , 0.        ,\n",
              "         0.        , 0.        , 0.        , 0.        , 0.        ,\n",
              "         0.        , 0.        , 0.        , 0.        , 0.        ,\n",
              "         0.        , 0.        , 0.        , 0.        ]]),\n",
              " array([[0.        , 0.        , 0.        , 0.        , 0.57735027,\n",
              "         0.        , 0.57735027, 0.        , 0.        , 0.        ,\n",
              "         0.57735027, 0.        , 0.        , 0.        , 0.        ,\n",
              "         0.        , 0.        , 0.        , 0.        , 0.        ,\n",
              "         0.        , 0.        , 0.        , 0.        , 0.        ,\n",
              "         0.        , 0.        , 0.        , 0.        , 0.        ,\n",
              "         0.        , 0.        , 0.        , 0.        , 0.        ,\n",
              "         0.        , 0.        , 0.        , 0.        , 0.        ,\n",
              "         0.        , 0.        , 0.        , 0.        , 0.        ,\n",
              "         0.        , 0.        , 0.        , 0.        , 0.        ,\n",
              "         0.        , 0.        , 0.        , 0.        , 0.        ,\n",
              "         0.        , 0.        , 0.        , 0.        , 0.        ,\n",
              "         0.        , 0.        , 0.        , 0.        , 0.        ,\n",
              "         0.        , 0.        , 0.        , 0.        ]]),\n",
              " array([[0.        , 0.        , 0.        , 0.18147722, 0.        ,\n",
              "         0.        , 0.        , 0.18147722, 0.18147722, 0.        ,\n",
              "         0.18147722, 0.        , 0.18147722, 0.        , 0.        ,\n",
              "         0.        , 0.18147722, 0.        , 0.        , 0.18147722,\n",
              "         0.18147722, 0.        , 0.18147722, 0.        , 0.18147722,\n",
              "         0.18147722, 0.18147722, 0.26806386, 0.18147722, 0.18147722,\n",
              "         0.18147722, 0.18147722, 0.18147722, 0.18147722, 0.18147722,\n",
              "         0.18147722, 0.18147722, 0.18147722, 0.18147722, 0.18147722,\n",
              "         0.26806386, 0.18147722, 0.18147722, 0.        , 0.        ,\n",
              "         0.        , 0.        , 0.        , 0.        , 0.        ,\n",
              "         0.        , 0.        , 0.        , 0.        , 0.        ,\n",
              "         0.        , 0.        , 0.        , 0.        , 0.        ,\n",
              "         0.        , 0.        , 0.        , 0.        , 0.        ,\n",
              "         0.        , 0.        , 0.        , 0.        ]]),\n",
              " array([[0.        , 0.        , 0.        , 0.27332855, 0.        ,\n",
              "         0.        , 0.        , 0.27332855, 0.        , 0.        ,\n",
              "         0.27332855, 0.        , 0.        , 0.        , 0.        ,\n",
              "         0.        , 0.        , 0.        , 0.        , 0.        ,\n",
              "         0.        , 0.        , 0.        , 0.        , 0.        ,\n",
              "         0.        , 0.        , 0.35560865, 0.        , 0.        ,\n",
              "         0.        , 0.        , 0.        , 0.        , 0.        ,\n",
              "         0.        , 0.        , 0.        , 0.        , 0.        ,\n",
              "         0.27332855, 0.        , 0.        , 0.35560865, 0.27332855,\n",
              "         0.27332855, 0.27332855, 0.27332855, 0.27332855, 0.27332855,\n",
              "         0.        , 0.        , 0.        , 0.        , 0.        ,\n",
              "         0.        , 0.        , 0.        , 0.        , 0.        ,\n",
              "         0.        , 0.        , 0.        , 0.        , 0.        ,\n",
              "         0.        , 0.        , 0.        , 0.        ]]),\n",
              " array([[0.        , 0.        , 0.        , 0.        , 0.        ,\n",
              "         0.        , 0.        , 0.        , 0.        , 0.        ,\n",
              "         0.70710678, 0.        , 0.        , 0.        , 0.        ,\n",
              "         0.        , 0.        , 0.        , 0.        , 0.        ,\n",
              "         0.        , 0.        , 0.        , 0.        , 0.        ,\n",
              "         0.        , 0.        , 0.        , 0.        , 0.        ,\n",
              "         0.        , 0.        , 0.        , 0.        , 0.        ,\n",
              "         0.        , 0.        , 0.        , 0.        , 0.        ,\n",
              "         0.        , 0.        , 0.        , 0.        , 0.        ,\n",
              "         0.        , 0.        , 0.        , 0.        , 0.        ,\n",
              "         0.70710678, 0.        , 0.        , 0.        , 0.        ,\n",
              "         0.        , 0.        , 0.        , 0.        , 0.        ,\n",
              "         0.        , 0.        , 0.        , 0.        , 0.        ,\n",
              "         0.        , 0.        , 0.        , 0.        ]]),\n",
              " array([[0.20992159, 0.        , 0.20992159, 0.        , 0.        ,\n",
              "         0.20992159, 0.        , 0.        , 0.20992159, 0.        ,\n",
              "         0.        , 0.        , 0.20992159, 0.        , 0.        ,\n",
              "         0.27311429, 0.        , 0.        , 0.        , 0.        ,\n",
              "         0.        , 0.        , 0.        , 0.        , 0.        ,\n",
              "         0.        , 0.        , 0.20992159, 0.        , 0.        ,\n",
              "         0.        , 0.        , 0.        , 0.        , 0.        ,\n",
              "         0.        , 0.        , 0.        , 0.        , 0.        ,\n",
              "         0.20992159, 0.        , 0.        , 0.        , 0.        ,\n",
              "         0.20992159, 0.20992159, 0.        , 0.        , 0.        ,\n",
              "         0.        , 0.20992159, 0.20992159, 0.20992159, 0.20992159,\n",
              "         0.20992159, 0.20992159, 0.20992159, 0.20992159, 0.20992159,\n",
              "         0.20992159, 0.20992159, 0.20992159, 0.        , 0.        ,\n",
              "         0.        , 0.        , 0.        , 0.        ]]),\n",
              " array([[0. , 0. , 0. , 0. , 0. , 0.5, 0. , 0. , 0. , 0. , 0. , 0. , 0. ,\n",
              "         0. , 0. , 0.5, 0. , 0. , 0. , 0. , 0. , 0. , 0. , 0. , 0. , 0. ,\n",
              "         0. , 0. , 0. , 0. , 0. , 0. , 0. , 0. , 0. , 0. , 0. , 0. , 0. ,\n",
              "         0. , 0. , 0. , 0. , 0. , 0. , 0. , 0. , 0. , 0. , 0. , 0. , 0. ,\n",
              "         0.5, 0. , 0. , 0. , 0. , 0. , 0. , 0. , 0. , 0. , 0. , 0.5, 0. ,\n",
              "         0. , 0. , 0. , 0. ]]),\n",
              " array([[0., 0., 0., 0., 0., 0., 0., 0., 0., 0., 0., 0., 0., 0., 0., 0.,\n",
              "         0., 0., 0., 0., 0., 0., 0., 0., 0., 0., 0., 0., 0., 0., 0., 0.,\n",
              "         0., 0., 0., 0., 0., 0., 0., 0., 0., 0., 0., 0., 0., 0., 0., 0.,\n",
              "         0., 0., 0., 0., 0., 0., 0., 0., 0., 0., 0., 0., 0., 0., 0., 0.,\n",
              "         1., 0., 0., 0., 0.]]),\n",
              " array([[0.        , 0.        , 0.        , 0.        , 0.        ,\n",
              "         0.30151134, 0.        , 0.        , 0.        , 0.30151134,\n",
              "         0.        , 0.        , 0.        , 0.30151134, 0.        ,\n",
              "         0.        , 0.        , 0.        , 0.        , 0.        ,\n",
              "         0.30151134, 0.        , 0.        , 0.        , 0.        ,\n",
              "         0.        , 0.        , 0.30151134, 0.        , 0.        ,\n",
              "         0.        , 0.        , 0.30151134, 0.        , 0.        ,\n",
              "         0.        , 0.        , 0.        , 0.        , 0.        ,\n",
              "         0.30151134, 0.        , 0.        , 0.        , 0.        ,\n",
              "         0.        , 0.        , 0.        , 0.        , 0.        ,\n",
              "         0.        , 0.        , 0.        , 0.        , 0.        ,\n",
              "         0.        , 0.        , 0.        , 0.        , 0.        ,\n",
              "         0.        , 0.        , 0.        , 0.        , 0.        ,\n",
              "         0.30151134, 0.30151134, 0.30151134, 0.30151134]]),\n",
              " array([[0. , 0. , 0.5, 0.5, 0. , 0. , 0. , 0.5, 0. , 0. , 0. , 0. , 0.5,\n",
              "         0. , 0. , 0. , 0. , 0. , 0. , 0. , 0. , 0. , 0. , 0. , 0. , 0. ,\n",
              "         0. , 0. , 0. , 0. , 0. , 0. , 0. , 0. , 0. , 0. , 0. , 0. , 0. ,\n",
              "         0. , 0. , 0. , 0. , 0. , 0. , 0. , 0. , 0. , 0. , 0. , 0. , 0. ,\n",
              "         0. , 0. , 0. , 0. , 0. , 0. , 0. , 0. , 0. , 0. , 0. , 0. , 0. ,\n",
              "         0. , 0. , 0. , 0. ]])]"
            ]
          },
          "metadata": {},
          "execution_count": 78
        }
      ]
    },
    {
      "cell_type": "code",
      "source": [
        "norm_newshape = []\n",
        "\n",
        "for i in range(11):\n",
        "  value = normalized[i][0]\n",
        "  norm_newshape.append(value)"
      ],
      "metadata": {
        "id": "YnCc5PTyQ31s"
      },
      "execution_count": null,
      "outputs": []
    },
    {
      "cell_type": "code",
      "source": [
        "import numpy as np"
      ],
      "metadata": {
        "id": "k46sJaNwOaPo"
      },
      "execution_count": null,
      "outputs": []
    },
    {
      "cell_type": "code",
      "source": [
        "norm_trans = np.array(norm_newshape)"
      ],
      "metadata": {
        "id": "j8qMZxyoRVHq"
      },
      "execution_count": null,
      "outputs": []
    },
    {
      "cell_type": "code",
      "source": [
        "#Cosine Similarity"
      ],
      "metadata": {
        "id": "9BQpc9BZVr7b"
      },
      "execution_count": null,
      "outputs": []
    },
    {
      "cell_type": "code",
      "source": [
        "from sklearn.metrics.pairwise import cosine_similarity"
      ],
      "metadata": {
        "id": "lvRKehYlPMqW"
      },
      "execution_count": null,
      "outputs": []
    },
    {
      "cell_type": "code",
      "source": [
        "cossim = cosine_similarity(norm_trans)\n",
        "cossim"
      ],
      "metadata": {
        "colab": {
          "base_uri": "https://localhost:8080/"
        },
        "id": "stAFs9ypOWho",
        "outputId": "63a33d5f-2eb7-4960-e3b5-7da0a3aad415"
      },
      "execution_count": null,
      "outputs": [
        {
          "output_type": "execute_result",
          "data": {
            "text/plain": [
              "array([[1.        , 0.23870489, 0.45708506, 0.21762075, 0.19665928,\n",
              "        0.16958724, 0.33694987, 0.27593098, 0.        , 0.21693673,\n",
              "        0.47966516],\n",
              "       [0.23870489, 1.        , 0.        , 0.32830465, 0.08241166,\n",
              "        0.        , 0.1456408 , 0.15075567, 0.        , 0.09090909,\n",
              "        0.15075567],\n",
              "       [0.45708506, 0.        , 1.        , 0.10477592, 0.15780631,\n",
              "        0.40824829, 0.        , 0.        , 0.        , 0.        ,\n",
              "        0.        ],\n",
              "       [0.21762075, 0.32830465, 0.10477592, 1.        , 0.31740405,\n",
              "        0.12832377, 0.18873676, 0.        , 0.        , 0.27108347,\n",
              "        0.27221583],\n",
              "       [0.19665928, 0.08241166, 0.15780631, 0.31740405, 1.        ,\n",
              "        0.19327247, 0.24678263, 0.        , 0.        , 0.1896317 ,\n",
              "        0.27332855],\n",
              "       [0.16958724, 0.        , 0.40824829, 0.12832377, 0.19327247,\n",
              "        1.        , 0.        , 0.        , 0.        , 0.        ,\n",
              "        0.        ],\n",
              "       [0.33694987, 0.1456408 , 0.        , 0.18873676, 0.24678263,\n",
              "        0.        , 1.        , 0.34647874, 0.        , 0.18988123,\n",
              "        0.20992159],\n",
              "       [0.27593098, 0.15075567, 0.        , 0.        , 0.        ,\n",
              "        0.        , 0.34647874, 1.        , 0.        , 0.15075567,\n",
              "        0.        ],\n",
              "       [0.        , 0.        , 0.        , 0.        , 0.        ,\n",
              "        0.        , 0.        , 0.        , 1.        , 0.        ,\n",
              "        0.        ],\n",
              "       [0.21693673, 0.09090909, 0.        , 0.27108347, 0.1896317 ,\n",
              "        0.        , 0.18988123, 0.15075567, 0.        , 1.        ,\n",
              "        0.        ],\n",
              "       [0.47966516, 0.15075567, 0.        , 0.27221583, 0.27332855,\n",
              "        0.        , 0.20992159, 0.        , 0.        , 0.        ,\n",
              "        1.        ]])"
            ]
          },
          "metadata": {},
          "execution_count": 84
        }
      ]
    },
    {
      "cell_type": "code",
      "source": [
        "hasil_cossim = cossim[10].tolist()\n",
        "\n",
        "for i in range(10):\n",
        "  print(f'Similarity Query terhadap Dokumen {i+1} : {hasil_cossim[i]}' )"
      ],
      "metadata": {
        "colab": {
          "base_uri": "https://localhost:8080/"
        },
        "id": "tcT6KAT-URqh",
        "outputId": "5e855dfc-434a-46b4-857d-f58929e86d0d"
      },
      "execution_count": null,
      "outputs": [
        {
          "output_type": "stream",
          "name": "stdout",
          "text": [
            "Similarity Query terhadap Dokumen 1 : 0.47966516032985707\n",
            "Similarity Query terhadap Dokumen 2 : 0.15075567228888181\n",
            "Similarity Query terhadap Dokumen 3 : 0.0\n",
            "Similarity Query terhadap Dokumen 4 : 0.27221583261885585\n",
            "Similarity Query terhadap Dokumen 5 : 0.27332855337614914\n",
            "Similarity Query terhadap Dokumen 6 : 0.0\n",
            "Similarity Query terhadap Dokumen 7 : 0.20992159359379178\n",
            "Similarity Query terhadap Dokumen 8 : 0.0\n",
            "Similarity Query terhadap Dokumen 9 : 0.0\n",
            "Similarity Query terhadap Dokumen 10 : 0.0\n"
          ]
        }
      ]
    },
    {
      "cell_type": "code",
      "source": [
        "#Evaluation"
      ],
      "metadata": {
        "id": "qnMQbUmyE_eG"
      },
      "execution_count": null,
      "outputs": []
    },
    {
      "cell_type": "code",
      "source": [
        "true_positive = 0 # Relevan and Retrieved \n",
        "true_negative = 0 # not Relevan but Retrieved\n",
        "false_positive = 0 # not Relevan and not Retrieved\n",
        "false_negative = 0 # Relevan but not Retrieved\n",
        "\n",
        "for i in range(10):\n",
        "  if (count_rtf[i]['dana'] != 0 or count_rtf[i]['sisa'] != 0 or count_rtf[i]['defisit'] != 0 or count_rtf[i]['habis'] != 0) and hasil_cossim[i] != 0:\n",
        "    true_positive += 1\n",
        "  elif (count_rtf[i]['dana'] != 0 or count_rtf[i]['sisa'] != 0 or count_rtf[i]['defisit'] != 0 or count_rtf[i]['habis'] != 0) and hasil_cossim[i] == 0:\n",
        "    true_negative += 1\n",
        "  elif (count_rtf[i]['dana'] == 0 or count_rtf[i]['sisa'] == 0 or count_rtf[i]['defisit'] == 0 or count_rtf[i]['habis'] == 0) and hasil_cossim[i] == 0:\n",
        "    false_positive += 1\n",
        "  elif (count_rtf[i]['dana'] == 0 or count_rtf[i]['sisa'] == 0 or count_rtf[i]['defisit'] == 0 or count_rtf[i]['habis'] == 0) and hasil_cossim[i] != 0:\n",
        "    false_negative += 1\n",
        "\n",
        "print(\"True Positive : \", true_positive)\n",
        "print(\"True Negative : \", true_negative)\n",
        "print(\"False Positive : \", false_positive)\n",
        "print(\"False Negative : \", false_negative)"
      ],
      "metadata": {
        "colab": {
          "base_uri": "https://localhost:8080/"
        },
        "id": "n0MT3GoQXqn5",
        "outputId": "1e32bc16-bb4a-492a-c65e-3f0fef5bc25f"
      },
      "execution_count": null,
      "outputs": [
        {
          "output_type": "stream",
          "name": "stdout",
          "text": [
            "True Positive :  5\n",
            "True Negative :  0\n",
            "False Positive :  5\n",
            "False Negative :  0\n"
          ]
        }
      ]
    },
    {
      "cell_type": "code",
      "source": [
        "precision = true_positive / (true_positive + true_negative)\n",
        "recall = true_positive / (true_positive + false_negative)\n",
        "f_measure = 2 * precision * recall / (precision + recall)\n",
        "accuracy = (true_positive + false_positive) / (true_positive + true_negative + false_positive + false_negative)\n",
        "\n",
        "print(\"Precision : \", precision)\n",
        "print(\"Recall : \", recall)\n",
        "print(\"F-Measure : \", f_measure)\n",
        "print(\"Accuracy : \", accuracy)"
      ],
      "metadata": {
        "colab": {
          "base_uri": "https://localhost:8080/"
        },
        "id": "szk1-G5acv2Z",
        "outputId": "cfd621d2-f2d6-4865-935d-75c1a94d1121"
      },
      "execution_count": null,
      "outputs": [
        {
          "output_type": "stream",
          "name": "stdout",
          "text": [
            "Precision :  1.0\n",
            "Recall :  1.0\n",
            "F-Measure :  1.0\n",
            "Accuracy :  1.0\n"
          ]
        }
      ]
    },
    {
      "cell_type": "code",
      "source": [
        ""
      ],
      "metadata": {
        "id": "0Bsy9tSqeeOC"
      },
      "execution_count": null,
      "outputs": []
    }
  ]
}